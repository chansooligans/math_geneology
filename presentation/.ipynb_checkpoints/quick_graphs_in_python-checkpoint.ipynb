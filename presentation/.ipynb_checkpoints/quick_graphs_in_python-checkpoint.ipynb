{
 "cells": [
  {
   "cell_type": "markdown",
   "metadata": {
    "slideshow": {
     "slide_type": "slide"
    }
   },
   "source": [
    "# Quick Graphs in Python\n",
    "## Chansoo Song and Gautam Sisodia"
   ]
  },
  {
   "cell_type": "markdown",
   "metadata": {
    "slideshow": {
     "slide_type": "subslide"
    }
   },
   "source": [
    "1. what are graphs?\n",
    "2. history\n",
    "3. use cases\n",
    "4. graph algorithms\n",
    "5. example: academic connections between universities"
   ]
  },
  {
   "cell_type": "markdown",
   "metadata": {
    "slideshow": {
     "slide_type": "slide"
    }
   },
   "source": [
    "# 1 What are graphs?\n",
    "A graph is a mathematical structure consisting of a set of objects called **nodes** and a set of connections between them called **edges**\n",
    "\n",
    "|example graph|\n",
    "|-|\n",
    "|![graph](https://upload.wikimedia.org/wikipedia/commons/thumb/5/5b/6n-graf.svg/640px-6n-graf.svg.png)|\n",
    "|[User:AzaToth [Public domain], via Wikimedia Commons](https://commons.wikimedia.org/wiki/File:6n-graf.svg)|"
   ]
  },
  {
   "cell_type": "markdown",
   "metadata": {
    "slideshow": {
     "slide_type": "slide"
    }
   },
   "source": [
    "# 2 History\n",
    "## Seven bridges of Koningsburg\n",
    "- city in Prussia (now Kaliningrad, Russia)\n",
    "- is it possible to walk through the city, crossing each bridge once and only once?\n",
    "\n",
    "|Koningsburg|\n",
    "|-|\n",
    "|<img src=https://upload.wikimedia.org/wikipedia/commons/1/15/Image-Koenigsberg%2C_Map_by_Merian-Erben_1652.jpg width=\"500\">|\n",
    "|[Merian-Erben [Public domain], via Wikimedia Commons](https://commons.wikimedia.org/wiki/File:Image-Koenigsberg,_Map_by_Merian-Erben_1652.jpg)|"
   ]
  },
  {
   "cell_type": "markdown",
   "metadata": {
    "slideshow": {
     "slide_type": "subslide"
    }
   },
   "source": [
    "## Euler's solution\n",
    "- Euler realized it was useful to think of the landmasses of the city as objects (nodes) and bridges as connections between them (edges)\n",
    "- was able to prove in 1736 that no such path was possible\n",
    "- laid the foundations for the study of graphs in math\n",
    "\n",
    "|Euler|Koningsburg graph|\n",
    "|-|-|\n",
    "|![euler](https://upload.wikimedia.org/wikipedia/commons/a/a7/EulerLeonhard.jpg \"Euler\")|![koningsburg_graph](https://upload.wikimedia.org/wikipedia/commons/thumb/9/96/K%C3%B6nigsberg_graph.svg/300px-K%C3%B6nigsberg_graph.svg.png \"Koningsburg graph\")|\n",
    "|[Jakob Emanuel Handmann [Public domain], via Wikimedia Commons](https://commons.wikimedia.org/wiki/File:EulerLeonhard.jpg)|[Mark Foskey [Public domain], via Wikimedia Commons](https://commons.wikimedia.org/wiki/File:K%C3%B6nigsberg_graph.png)|"
   ]
  },
  {
   "cell_type": "markdown",
   "metadata": {
    "slideshow": {
     "slide_type": "slide"
    }
   },
   "source": [
    "# 3 Use cases\n",
    "\n",
    "|Airport graph|\n",
    "|-|\n",
    "|<img src=http://www.martingrandjean.ch/wp-content/uploads/2016/05/airports-world-network.png width=\"550\">|\n",
    "|[Martin Grandjean [CC-BY-SA]](http://www.martingrandjean.ch/connected-world-air-traffic-network/)|"
   ]
  },
  {
   "cell_type": "code",
   "execution_count": 1,
   "metadata": {
    "slideshow": {
     "slide_type": "skip"
    }
   },
   "outputs": [],
   "source": [
    "import networkx as nx"
   ]
  },
  {
   "cell_type": "code",
   "execution_count": 2,
   "metadata": {
    "slideshow": {
     "slide_type": "skip"
    }
   },
   "outputs": [],
   "source": [
    "entity_res_ex = nx.Graph()"
   ]
  },
  {
   "cell_type": "code",
   "execution_count": 4,
   "metadata": {
    "slideshow": {
     "slide_type": "skip"
    }
   },
   "outputs": [],
   "source": [
    "entity_res_ex.add_edges_from([(\"DEA#: 1\", \"NABP#: 12\"), (\"DEA#: 2\", \"NABP#: 12\"), (\"DEA#: 3\", \"NABP#: 11\")])"
   ]
  },
  {
   "cell_type": "code",
   "execution_count": 7,
   "metadata": {
    "slideshow": {
     "slide_type": "skip"
    }
   },
   "outputs": [],
   "source": [
    "import matplotlib.pyplot as plt\n",
    "%matplotlib inline"
   ]
  },
  {
   "cell_type": "code",
   "execution_count": 35,
   "metadata": {
    "slideshow": {
     "slide_type": "skip"
    }
   },
   "outputs": [],
   "source": [
    "def draw_graph_layout_cent(graph, layout, ax, node_size = 10, edge_lw = 0.1, cent = None):\n",
    "    \"\"\"\n",
    "    draw the graph with the given layout on the given axis\n",
    "    \"\"\"\n",
    "    cent_list = [200 * cent[k] if cent else node_size for k, v in layout.items()]\n",
    "    ax.scatter([v[0] for k, v in layout.items()], [v[1] for k, v in layout.items()], s = cent_list)\n",
    "    for k, v in layout.items():\n",
    "        ax.annotate(k, v, xytext = (5, 5), textcoords = \"offset points\", fontsize = 10 + 5 * cent[k] if cent else 12)\n",
    "    for e in [e for e in graph.edges]:\n",
    "        ax.plot([layout[i][0] for i in e], [layout[i][1] for i in e], c = \"steelblue\", lw = edge_lw)\n",
    "    ax.axis(\"off\")"
   ]
  },
  {
   "cell_type": "markdown",
   "metadata": {
    "slideshow": {
     "slide_type": "subslide"
    }
   },
   "source": [
    "### Entity resolution\n",
    "- example: identifying pharmacies\n",
    "- pharmacies DEA and NABP numbers can change over time\n",
    "- a graph can help keep track of a pharmacy's DEA and NABP numbers"
   ]
  },
  {
   "cell_type": "code",
   "execution_count": 41,
   "metadata": {
    "slideshow": {
     "slide_type": "fragment"
    }
   },
   "outputs": [
    {
     "data": {
      "image/png": "[encoded data removed]",
      "text/plain": [
       "<Figure size 432x432 with 1 Axes>"
      ]
     },
     "metadata": {
      "needs_background": "light"
     },
     "output_type": "display_data"
    }
   ],
   "source": [
    "fig, ax = plt.subplots(figsize = (6, 6))\n",
    "draw_graph_layout_cent(graph = entity_res_ex, layout = nx.kamada_kawai_layout(entity_res_ex), ax = ax, edge_lw = 1, node_size = 100)"
   ]
  },
  {
   "cell_type": "code",
   "execution_count": null,
   "metadata": {},
   "outputs": [],
   "source": []
  }
 ],
 "metadata": {
  "kernelspec": {
   "display_name": "Python 3",
   "language": "python",
   "name": "python3"
  },
  "language_info": {
   "codemirror_mode": {
    "name": "ipython",
    "version": 3
   },
   "file_extension": ".py",
   "mimetype": "text/x-python",
   "name": "python",
   "nbconvert_exporter": "python",
   "pygments_lexer": "ipython3",
   "version": "3.6.2"
  }
 },
 "nbformat": 4,
 "nbformat_minor": 4
}
