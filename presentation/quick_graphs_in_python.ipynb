{
 "cells": [
  {
   "cell_type": "markdown",
   "metadata": {
    "slideshow": {
     "slide_type": "slide"
    }
   },
   "source": [
    "# Quick Graphs in Python\n",
    "## Chansoo Song and Gautam Sisodia"
   ]
  },
  {
   "cell_type": "markdown",
   "metadata": {
    "slideshow": {
     "slide_type": "subslide"
    }
   },
   "source": [
    "1. what are graphs?\n",
    "2. history\n",
    "3. use cases\n",
    "4. graph algorithms\n",
    "5. graphs in python: networkx\n",
    "6. example: academic connections between universities\n",
    "7. conclusion "
   ]
  },
  {
   "cell_type": "markdown",
   "metadata": {
    "slideshow": {
     "slide_type": "slide"
    }
   },
   "source": [
    "# What are graphs?\n",
    "A graph is a mathematical structure consisting of a set of objects called **nodes** and a set of connections between them called **edges**\n",
    "\n",
    "|example graph|\n",
    "|-|\n",
    "|![graph](https://upload.wikimedia.org/wikipedia/commons/thumb/5/5b/6n-graf.svg/640px-6n-graf.svg.png)|\n",
    "|[User:AzaToth [Public domain], via Wikimedia Commons](https://commons.wikimedia.org/wiki/File:6n-graf.svg)|"
   ]
  },
  {
   "cell_type": "markdown",
   "metadata": {
    "slideshow": {
     "slide_type": "subslide"
    }
   },
   "source": [
    "## Directed edges\n",
    "- an edge is **directed** if one of the nodes it connects is specified as the start and the other as the end\n",
    "  - think arrow\n",
    "- example: social network, edges are people\n",
    "  - friendship: undirected\n",
    "  - following/messaged: directed\n",
    "  \n",
    "|friends|\n",
    "|-|\n",
    "|<img src=https://upload.wikimedia.org/wikipedia/commons/thumb/a/a5/El_cuentito.jpg/600px-El_cuentito.jpg width=\"350\">|\n",
    "|Petrona Viera [Public domain], via [Wikimedia Commons](https://commons.wikimedia.org/wiki/File:El_cuentito.jpg)|"
   ]
  },
  {
   "cell_type": "markdown",
   "metadata": {
    "slideshow": {
     "slide_type": "subslide"
    }
   },
   "source": [
    "## Node and edge properties\n",
    "- nodes and edges can have properties\n",
    "- most common: a number called a **weight**\n",
    "- example: nodes = subway stations, edges = tracks between stations\n",
    "  - edge weight = length of tracks\n",
    "\n",
    "|NYC subway|\n",
    "|-|\n",
    "|<img src=https://upload.wikimedia.org/wikipedia/commons/thumb/0/04/NYC_subway-4D.svg/556px-NYC_subway-4D.svg.png width=\"350\">|\n",
    "|CountZ at English Wikipedia [CC BY-SA 3.0], via [Wikimedia Commons](https://commons.wikimedia.org/wiki/File:NYC_subway-4D.svg)|\n",
    "\n"
   ]
  },
  {
   "cell_type": "markdown",
   "metadata": {
    "slideshow": {
     "slide_type": "slide"
    }
   },
   "source": [
    "# History\n",
    "## Seven bridges of Koningsburg\n",
    "- city in Prussia (now Kaliningrad, Russia)\n",
    "- is it possible to walk through the city, crossing each bridge once and only once?\n",
    "\n",
    "|Koningsburg|\n",
    "|-|\n",
    "|<img src=https://upload.wikimedia.org/wikipedia/commons/1/15/Image-Koenigsberg%2C_Map_by_Merian-Erben_1652.jpg width=\"500\">|\n",
    "|[Merian-Erben [Public domain], via Wikimedia Commons](https://commons.wikimedia.org/wiki/File:Image-Koenigsberg,_Map_by_Merian-Erben_1652.jpg)|"
   ]
  },
  {
   "cell_type": "markdown",
   "metadata": {
    "slideshow": {
     "slide_type": "subslide"
    }
   },
   "source": [
    "## Euler's solution\n",
    "- Leonhard Euler realized it was useful to think of the landmasses of the city as objects (nodes) and bridges as connections between them (edges)\n",
    "- was able to prove in 1736 that no such path was possible\n",
    "- laid the foundations for the study of graphs in math\n",
    "\n",
    "|Euler|Koningsburg graph|\n",
    "|-|-|\n",
    "|![euler](https://upload.wikimedia.org/wikipedia/commons/a/a7/EulerLeonhard.jpg \"Euler\")|![koningsburg_graph](https://upload.wikimedia.org/wikipedia/commons/thumb/9/96/K%C3%B6nigsberg_graph.svg/300px-K%C3%B6nigsberg_graph.svg.png \"Koningsburg graph\")|\n",
    "|[Jakob Emanuel Handmann [Public domain], via Wikimedia Commons](https://commons.wikimedia.org/wiki/File:EulerLeonhard.jpg)|[Mark Foskey [Public domain], via Wikimedia Commons](https://commons.wikimedia.org/wiki/File:K%C3%B6nigsberg_graph.png)|"
   ]
  },
  {
   "cell_type": "markdown",
   "metadata": {
    "slideshow": {
     "slide_type": "subslide"
    }
   },
   "source": [
    "## A nice graph theory result\n",
    "- Four color theorem: four colors are enough to color every region of a map such that no two regions that touch have the same color\n",
    "\n",
    "|Four coloring of US states|\n",
    "|-|\n",
    "|<img src=https://upload.wikimedia.org/wikipedia/commons/9/92/Map_of_USA_four_colours.svg width=\"500\">|\n",
    "|User:Derfel73; User:Dbenbenn [CC BY-SA 3.0], via [Wikimedia Commons](https://commons.wikimedia.org/wiki/File:Map_of_USA_four_colours.svg)|"
   ]
  },
  {
   "cell_type": "markdown",
   "metadata": {
    "slideshow": {
     "slide_type": "slide"
    }
   },
   "source": [
    "# Use cases"
   ]
  },
  {
   "cell_type": "markdown",
   "metadata": {
    "slideshow": {
     "slide_type": "fragment"
    }
   },
   "source": [
    "\n",
    "|Airport graph|\n",
    "|-|\n",
    "|<img src=http://www.martingrandjean.ch/wp-content/uploads/2016/05/airports-world-network.png width=\"550\">|\n",
    "|[Martin Grandjean [CC-BY-SA]](http://www.martingrandjean.ch/connected-world-air-traffic-network/)|"
   ]
  },
  {
   "cell_type": "code",
   "execution_count": 2,
   "metadata": {
    "slideshow": {
     "slide_type": "skip"
    }
   },
   "outputs": [],
   "source": [
    "import networkx as nx"
   ]
  },
  {
   "cell_type": "code",
   "execution_count": 3,
   "metadata": {
    "slideshow": {
     "slide_type": "skip"
    }
   },
   "outputs": [],
   "source": [
    "entity_res_ex = nx.Graph()"
   ]
  },
  {
   "cell_type": "code",
   "execution_count": 4,
   "metadata": {
    "slideshow": {
     "slide_type": "skip"
    }
   },
   "outputs": [],
   "source": [
    "entity_res_ex.add_edges_from([\n",
    "    (\"Gautam Sisodia\", \"phone # 1\"),\n",
    "    (\"sisodia, gautam\", \"phone # 1\"),\n",
    "    (\"sisodia, gautam\", \"address 1\"),\n",
    "    (\"sisodia, gautam\", \"phone # 2\")])"
   ]
  },
  {
   "cell_type": "code",
   "execution_count": 5,
   "metadata": {
    "slideshow": {
     "slide_type": "skip"
    }
   },
   "outputs": [],
   "source": [
    "import matplotlib.pyplot as plt\n",
    "%matplotlib inline"
   ]
  },
  {
   "cell_type": "code",
   "execution_count": 6,
   "metadata": {
    "slideshow": {
     "slide_type": "skip"
    }
   },
   "outputs": [],
   "source": [
    "def draw_graph_layout_cent(graph, layout, ax, node_size = 10, edge_lw = 0.1, cent = None):\n",
    "    \"\"\"\n",
    "    draw the graph with the given layout on the given axis\n",
    "    \"\"\"\n",
    "    cent_list = [200 * cent[k] if cent else node_size for k, v in layout.items()]\n",
    "    ax.scatter([v[0] for k, v in layout.items()], [v[1] for k, v in layout.items()], s = cent_list)\n",
    "    for k, v in layout.items():\n",
    "        ax.annotate(k, v, xytext = (5, 5), textcoords = \"offset points\", fontsize = 10 + 5 * cent[k] if cent else 12)\n",
    "    for e in [e for e in graph.edges]:\n",
    "        ax.plot([layout[i][0] for i in e], [layout[i][1] for i in e], c = \"steelblue\", lw = edge_lw)\n",
    "    ax.axis(\"off\")"
   ]
  },
  {
   "cell_type": "markdown",
   "metadata": {
    "slideshow": {
     "slide_type": "subslide"
    }
   },
   "source": [
    "## Entity resolution\n",
    "- example: identifying people with names, phone numbers and addresses\n",
    "- identifiers are fuzzy: can have variations, can change \n",
    "- a graph can help keep track of correpondences between identifier values"
   ]
  },
  {
   "cell_type": "code",
   "execution_count": 7,
   "metadata": {
    "slideshow": {
     "slide_type": "fragment"
    }
   },
   "outputs": [
    {
     "data": {
      "image/png": "[encoded data removed]",
      "text/plain": [
       "<Figure size 432x432 with 1 Axes>"
      ]
     },
     "metadata": {
      "needs_background": "light"
     },
     "output_type": "display_data"
    }
   ],
   "source": [
    "fig, ax = plt.subplots(figsize = (6, 6))\n",
    "draw_graph_layout_cent(graph = entity_res_ex, layout = nx.kamada_kawai_layout(entity_res_ex), ax = ax, edge_lw = 1, node_size = 100)"
   ]
  },
  {
   "cell_type": "markdown",
   "metadata": {
    "slideshow": {
     "slide_type": "subslide"
    }
   },
   "source": [
    "## Multilayer Networks"
   ]
  },
  {
   "cell_type": "markdown",
   "metadata": {
    "slideshow": {
     "slide_type": "fragment"
    }
   },
   "source": [
    "- example:\n",
    "    - twitter: tweets, retweets, mentions\n",
    "    - transport: subway, bus, trains"
   ]
  },
  {
   "cell_type": "markdown",
   "metadata": {
    "slideshow": {
     "slide_type": "fragment"
    }
   },
   "source": [
    "![multilayer_networks](multilayer_network.png)\n",
    "(source: Aleta and Moreno)"
   ]
  },
  {
   "cell_type": "markdown",
   "metadata": {
    "slideshow": {
     "slide_type": "slide"
    }
   },
   "source": [
    "# Graph algorithms"
   ]
  },
  {
   "cell_type": "markdown",
   "metadata": {
    "slideshow": {
     "slide_type": "subslide"
    }
   },
   "source": [
    "## Path finding\n",
    "- finding optimal paths in a graph\n",
    "- example: Dijkstra's algorithm, 1956\n",
    "- example use: Bacon number (six degrees of separation from Kevin Bacon)\n",
    "\n",
    "![chaplin_bacon](chaplin_bacon_number.PNG)\n",
    "\n",
    "[http://oracleofbacon.org](http://oracleofbacon.org)"
   ]
  },
  {
   "cell_type": "markdown",
   "metadata": {
    "slideshow": {
     "slide_type": "subslide"
    }
   },
   "source": [
    "## Centrality\n",
    "\n",
    "- Identify most \"important\" nodes\n",
    "- Examples:\n",
    "    - Degree, Closeness, Betweenness, Eigenvector\n",
    "- Eigenvector Centrality\n",
    "    \n",
    "![e_c](eigenvector_centrality.png)\n",
    "    "
   ]
  },
  {
   "cell_type": "markdown",
   "metadata": {
    "slideshow": {
     "slide_type": "subslide"
    }
   },
   "source": [
    "## Community detection\n",
    "- finding groups of nodes more connected to nodes within their group than without\n",
    "- example: label propagation\n",
    "  - iterative algorithm where each node updates its label to the most common label of its neighbors\n",
    "\n",
    "|graph with community structure|\n",
    "|-|\n",
    "|<img src=https://upload.wikimedia.org/wikipedia/commons/f/f4/Network_Community_Structure.svg width=\"250\">|\n",
    "|j_ham3 [CC BY-SA 3.0], via [Wikimedia Commons](https://commons.wikimedia.org/wiki/File:Network_Community_Structure.svg)|"
   ]
  },
  {
   "cell_type": "markdown",
   "metadata": {
    "slideshow": {
     "slide_type": "slide"
    }
   },
   "source": [
    "# Graphs in python: networkx\n",
    "networkx is a python package for creating and working with graphs"
   ]
  },
  {
   "cell_type": "code",
   "execution_count": 8,
   "metadata": {
    "slideshow": {
     "slide_type": "fragment"
    }
   },
   "outputs": [
    {
     "data": {
      "image/png": "[encoded data removed]",
      "text/plain": [
       "<Figure size 432x288 with 1 Axes>"
      ]
     },
     "metadata": {
      "needs_background": "light"
     },
     "output_type": "display_data"
    }
   ],
   "source": [
    "import networkx as nx\n",
    "graph = nx.Graph()\n",
    "graph.add_edges_from([(\"A\", \"B\"), (\"B\", \"C\"), (\"A\", \"C\")])\n",
    "nx.draw_networkx(graph)"
   ]
  },
  {
   "cell_type": "markdown",
   "metadata": {
    "slideshow": {
     "slide_type": "subslide"
    }
   },
   "source": [
    "## Koningsburg graph"
   ]
  },
  {
   "cell_type": "code",
   "execution_count": 11,
   "metadata": {
    "slideshow": {
     "slide_type": "fragment"
    }
   },
   "outputs": [
    {
     "data": {
      "text/plain": [
       "False"
      ]
     },
     "execution_count": 11,
     "metadata": {},
     "output_type": "execute_result"
    }
   ],
   "source": [
    "koningsburg = nx.MultiGraph()\n",
    "koningsburg.add_edges_from([(\"A\", \"B\"), (\"A\", \"B\"), (\"B\", \"C\"), (\"B\", \"C\"), (\"A\", \"D\"), (\"B\", \"D\"), (\"C\", \"D\")])\n",
    "nx.is_eulerian(koningsburg)"
   ]
  },
  {
   "cell_type": "markdown",
   "metadata": {
    "slideshow": {
     "slide_type": "slide"
    }
   },
   "source": [
    "# Example: academic connections between universities\n",
    "- the Mathematics Genealogy Project (https://genealogy.math.ndsu.nodak.edu/) collects information on math, computer science, statistics academics, including when and where they got their PhD and when and where their students got their PhDs\n",
    "- can we use this information to spot trends in the movements of academics between universities\n",
    "\n",
    "|Euler's entry in the Mathematics Genealogy Project|\n",
    "|-|\n",
    "|<img src=https://raw.githubusercontent.com/chansooligans/math_geneology/master/presentation/euler_math_geneology.png width=\"400\"/>|"
   ]
  },
  {
   "cell_type": "markdown",
   "metadata": {
    "slideshow": {
     "slide_type": "subslide"
    }
   },
   "source": [
    "## School graph\n",
    "- nodes are schools\n",
    "- edge from A to B if a person got their PhD from school A and advised a student at school B (directed)\n",
    "- weight is the number of such people"
   ]
  },
  {
   "cell_type": "markdown",
   "metadata": {
    "slideshow": {
     "slide_type": "fragment"
    }
   },
   "source": [
    "#### Summary Statistics:"
   ]
  },
  {
   "cell_type": "code",
   "execution_count": 246,
   "metadata": {
    "slideshow": {
     "slide_type": "skip"
    }
   },
   "outputs": [],
   "source": [
    "import pandas as pd\n",
    "import networkx as nx\n",
    "df = pd.read_csv('../data/math_geneology_final.csv')\n",
    "df = df.fillna(' ')\n",
    "\n",
    "#### Ensure Certain Columns Exist\n",
    "cols = ['advisor_year','student_year','advisor_school','student_school']\n",
    "for col in cols:\n",
    "    df = df.loc[df[col].notnull() & (df[col] != ' '),:]\n",
    "    \n",
    "for col in ['student_school','advisor_school']:\n",
    "    df[col] = [x.strip() for x in df[col]]   \n",
    "\n",
    "def make_school_digraph(df_year):\n",
    "    schools_df = pd.concat([df_year[[c]].rename(columns = {c: \"school\"}) for c in [\"student_school\", \"advisor_school\"]]).drop_duplicates()\n",
    "    \n",
    "    school_digraph = nx.DiGraph()\n",
    "    # Nodes are schools (student and advisors) identified by name\n",
    "    school_digraph.add_nodes_from(schools_df.school.values)\n",
    "    \n",
    "    # Edges connect advisor and student schools and are weighted by the number of advisor-students\n",
    "    edges_df = df_year.groupby([\"student_school\", \"advisor_school\"], as_index = False).agg({\"student_id\": \"count\"})\n",
    "    edges = [(e[\"advisor_school\"], e[\"student_school\"], {\"weight\": e[\"student_id\"]}) for e in edges_df.to_dict(orient = \"records\")]\n",
    "    school_digraph.add_edges_from(edges)\n",
    "    return school_digraph\n",
    "\n",
    "school_digraph = make_school_digraph(df)"
   ]
  },
  {
   "cell_type": "code",
   "execution_count": 247,
   "metadata": {
    "slideshow": {
     "slide_type": "fragment"
    }
   },
   "outputs": [
    {
     "name": "stdout",
     "output_type": "stream",
     "text": [
      "Name: \n",
      "Type: DiGraph\n",
      "Number of nodes: 3358\n",
      "Number of edges: 31547\n",
      "Average in degree:   9.3946\n",
      "Average out degree:   9.3946\n"
     ]
    }
   ],
   "source": [
    "print(nx.info(school_digraph))"
   ]
  },
  {
   "cell_type": "markdown",
   "metadata": {
    "slideshow": {
     "slide_type": "subslide"
    }
   },
   "source": [
    "![whole_network](whole_network.png)"
   ]
  },
  {
   "cell_type": "markdown",
   "metadata": {
    "slideshow": {
     "slide_type": "subslide"
    }
   },
   "source": [
    "#### Show Subset"
   ]
  },
  {
   "cell_type": "code",
   "execution_count": 248,
   "metadata": {
    "slideshow": {
     "slide_type": "skip"
    }
   },
   "outputs": [],
   "source": [
    "schools = ['New York University', \n",
    "           'Columbia University', \n",
    "           'Stevens Institute of Technology', \n",
    "           'Rutgers University, New Brunswick', \n",
    "           'City University of New York'\n",
    "          ]\n",
    "keep_rows = [row['student_school'] in schools and row['advisor_school'] in schools for i,row in df.iterrows()]\n",
    "df_sample = df.loc[keep_rows,:].query('student_school != advisor_school')\n",
    "school_digraph_sample = make_school_digraph(df_sample)"
   ]
  },
  {
   "cell_type": "code",
   "execution_count": 265,
   "metadata": {
    "slideshow": {
     "slide_type": "skip"
    }
   },
   "outputs": [
    {
     "data": {
      "text/plain": [
       "(-0.9989638537168503,\n",
       " 1.1899467915296555,\n",
       " -1.1507783475518227,\n",
       " 1.1507784071564675)"
      ]
     },
     "execution_count": 265,
     "metadata": {},
     "output_type": "execute_result"
    },
    {
     "data": {
      "image/png": "[encoded data removed]",
      "text/plain": [
       "<Figure size 1080x720 with 1 Axes>"
      ]
     },
     "metadata": {
      "needs_background": "light"
     },
     "output_type": "display_data"
    }
   ],
   "source": [
    "pos = nx.shell_layout(school_digraph_sample)\n",
    "plt.figure(figsize=(15,10))\n",
    "nx.draw_networkx(school_digraph_sample, pos, with_labels = True, arrows = True, width =1, linewidths =1, node_size = 500, node_color = 'pink', alpha=0.9, font_size=12)\n",
    "edge_labels = nx.get_edge_attributes(school_digraph_sample,'weight')\n",
    "nx.draw_networkx_edge_labels(school_digraph_sample, pos, labels = edge_labels, label_pos=0.3, font_size=12)\n",
    "plt.axis('off')"
   ]
  },
  {
   "cell_type": "markdown",
   "metadata": {
    "slideshow": {
     "slide_type": "fragment"
    }
   },
   "source": [
    "![subset_graph](subset_graph.png)"
   ]
  },
  {
   "cell_type": "markdown",
   "metadata": {
    "slideshow": {
     "slide_type": "subslide"
    }
   },
   "source": [
    "# Hierarchy of Schools over Time"
   ]
  },
  {
   "cell_type": "markdown",
   "metadata": {
    "slideshow": {
     "slide_type": "subslide"
    }
   },
   "source": [
    "#### Degree Centrality\n",
    "![out_degree](out_degree.png)"
   ]
  },
  {
   "cell_type": "markdown",
   "metadata": {
    "slideshow": {
     "slide_type": "subslide"
    }
   },
   "source": [
    "#### Eigenvector Centrality\n",
    "![out_eigenvector](out_eigenvector.png)"
   ]
  },
  {
   "cell_type": "markdown",
   "metadata": {
    "slideshow": {
     "slide_type": "subslide"
    }
   },
   "source": [
    "#### Berkeley Degree Centrality\n",
    "![berkeley](berkeley.png)"
   ]
  },
  {
   "cell_type": "markdown",
   "metadata": {
    "slideshow": {
     "slide_type": "subslide"
    }
   },
   "source": [
    "#### Berkeley Eigenvector Centrality\n",
    "![berkeley_eigen](berkeley_eigen.png)"
   ]
  },
  {
   "cell_type": "markdown",
   "metadata": {
    "slideshow": {
     "slide_type": "subslide"
    }
   },
   "source": [
    "#### Lomonosov Degree Centrality\n",
    "![lomonosov_moscow](lomonosov_moscow.png)"
   ]
  },
  {
   "cell_type": "markdown",
   "metadata": {
    "slideshow": {
     "slide_type": "subslide"
    }
   },
   "source": [
    "#### Lomonosov Eigen Centrality\n",
    "![lomonosov_moscow](lomonosov_eigen.png)"
   ]
  },
  {
   "cell_type": "markdown",
   "metadata": {
    "slideshow": {
     "slide_type": "subslide"
    }
   },
   "source": [
    "#### Top Schools by Eigen Centrality\n",
    "![top_schools](top_schools.png)"
   ]
  },
  {
   "cell_type": "markdown",
   "metadata": {
    "slideshow": {
     "slide_type": "subslide"
    }
   },
   "source": [
    "## Grouped by Country"
   ]
  },
  {
   "cell_type": "markdown",
   "metadata": {
    "slideshow": {
     "slide_type": "subslide"
    }
   },
   "source": [
    "![country](countries_over_time.png)"
   ]
  },
  {
   "cell_type": "markdown",
   "metadata": {
    "slideshow": {
     "slide_type": "subslide"
    }
   },
   "source": [
    "## Community Detection\n",
    "- label propogation applied to the top 25 schools by degree in the 2010s\n",
    "- community almost exactly corresponds to country\n",
    "\n",
    "<img src=\"school_communities.png\" width=\"3000\"/>"
   ]
  },
  {
   "cell_type": "markdown",
   "metadata": {
    "slideshow": {
     "slide_type": "slide"
    }
   },
   "source": [
    "# Conclusion"
   ]
  },
  {
   "cell_type": "markdown",
   "metadata": {
    "slideshow": {
     "slide_type": "fragment"
    }
   },
   "source": [
    "## Beyond networkx\n",
    "### Visualization\n",
    "- https://cytoscape.org/, https://www.graphviz.org/"
   ]
  },
  {
   "cell_type": "markdown",
   "metadata": {
    "slideshow": {
     "slide_type": "fragment"
    }
   },
   "source": [
    "### Larger graphs\n",
    "- https://neo4j.com/"
   ]
  },
  {
   "cell_type": "markdown",
   "metadata": {
    "slideshow": {
     "slide_type": "fragment"
    }
   },
   "source": [
    "## Thanks for your time!"
   ]
  }
 ],
 "metadata": {
  "kernelspec": {
   "display_name": "Python 3",
   "language": "python",
   "name": "python3"
  },
  "language_info": {
   "codemirror_mode": {
    "name": "ipython",
    "version": 3
   },
   "file_extension": ".py",
   "mimetype": "text/x-python",
   "name": "python",
   "nbconvert_exporter": "python",
   "pygments_lexer": "ipython3",
   "version": "3.6.2"
  }
 },
 "nbformat": 4,
 "nbformat_minor": 4
}
