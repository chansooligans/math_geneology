{
 "cells": [
  {
   "cell_type": "code",
   "execution_count": 55,
   "metadata": {},
   "outputs": [],
   "source": [
    "import requests\n",
    "import urllib.request\n",
    "import time\n",
    "from bs4 import BeautifulSoup\n",
    "import itertools\n",
    "import pandas as pd\n",
    "import datetime\n",
    "from multiprocessing.dummy import Pool  # This is a thread-based Pool\n",
    "from multiprocessing import cpu_count\n",
    "pd.set_option('display.max_rows', 1000)"
   ]
  },
  {
   "cell_type": "code",
   "execution_count": 61,
   "metadata": {},
   "outputs": [],
   "source": [
    "\n",
    "def scraper(search_alph):\n",
    "    \n",
    "    df_list = []\n",
    "    n=len(search_alph)\n",
    "    time_start = datetime.datetime.now()\n",
    "    \n",
    "    for i in range(n):\n",
    "\n",
    "        print(i)\n",
    "        time_elapsed = datetime.datetime.now() - time_start\n",
    "        print('time elapsed: '+str(time_elapsed))\n",
    "        print('estimated time remaining: '+ str(time_elapsed*(n-i)/20))\n",
    "        time_start = datetime.datetime.now()\n",
    "        \n",
    "        url = 'https://www.genealogy.math.ndsu.nodak.edu/letter.php?letter=' + search_alph[i] + '&fShow=1'\n",
    "        response = requests.get(url)\n",
    "        soup = BeautifulSoup(response.text, 'html.parser')\n",
    "\n",
    "        # Get table of mathematicians\n",
    "        table = soup.find('table')\n",
    "        table_rows = table.find_all('tr')\n",
    "\n",
    "        # Get IDs\n",
    "        text = soup.find_all('a', href=True)\n",
    "\n",
    "        res = []\n",
    "        for tr in table_rows:\n",
    "            td = tr.find_all('td')\n",
    "            row = [tr.text.strip() for tr in td]\n",
    "            if row:\n",
    "                res.append(row)\n",
    "\n",
    "        df_math = pd.DataFrame(res, columns=[\"Mathematician\", \"School\", \"Year\"])\n",
    "        df_math['id'] = [x['href'].split('=')[1] for x in text if 'id.php?id' in x['href']]        \n",
    "        df_list.append(df_math)\n",
    "    \n",
    "    df_final = pd.concat(df_list,axis=0).reset_index(drop=True)\n",
    "    \n",
    "    return(df_final) \n"
   ]
  },
  {
   "cell_type": "code",
   "execution_count": 62,
   "metadata": {},
   "outputs": [],
   "source": [
    "alphabet = ['A', 'B', 'C', 'D', 'E', 'F', 'G', 'H', 'I', 'J', 'K', 'L', 'M', 'N', 'O', 'P', 'Q', 'R', 'S', 'T', 'U', 'V', 'W', 'X', 'Y', 'Z']"
   ]
  },
  {
   "cell_type": "code",
   "execution_count": 63,
   "metadata": {},
   "outputs": [
    {
     "name": "stdout",
     "output_type": "stream",
     "text": [
      "000\n",
      "time elapsed: 0:00:00.000535\n",
      "estimated time remaining: 0:00:00.000107\n",
      "0\n",
      "time elapsed: 0:00:00.001459\n",
      "estimated time remaining: 0:00:00.000292\n",
      "\n",
      "0\n",
      "time elapsed: 0:00:00.000754\n",
      "estimated time remaining: 0:00:00.000151\n",
      "\n",
      "time elapsed: 0:00:00.000497\n",
      "estimated time remaining: 0:00:00.000099\n",
      "time elapsed: 0:00:00.003995\n",
      "estimated time remaining: 0:00:00.0007990\n",
      "0\n",
      "time elapsed: 0:00:00.000979\n",
      "estimated time remaining: 0:00:00.000196\n",
      "\n",
      "time elapsed: 0:00:00.004132\n",
      "estimated time remaining: 0:00:00.000413\n",
      "1\n",
      "time elapsed: 0:00:01.496976\n",
      "estimated time remaining: 0:00:00.224546\n",
      "1\n",
      "time elapsed: 0:00:02.134075\n",
      "estimated time remaining: 0:00:00.320111\n",
      "1\n",
      "time elapsed: 0:00:02.386218\n",
      "estimated time remaining: 0:00:00.357933\n",
      "1\n",
      "time elapsed: 0:00:04.344437\n",
      "estimated time remaining: 0:00:00.217222\n",
      "1\n",
      "time elapsed: 0:00:04.529111\n",
      "estimated time remaining: 0:00:00.679367\n",
      "2\n",
      "time elapsed: 0:00:06.542979\n",
      "estimated time remaining: 0:00:00.654298\n",
      "2\n",
      "time elapsed: 0:00:07.786820\n",
      "estimated time remaining: 0:00:00.778682\n",
      "1\n",
      "time elapsed: 0:00:12.342853\n",
      "estimated time remaining: 0:00:01.851428\n",
      "2\n",
      "time elapsed: 0:00:16.201433\n",
      "estimated time remaining: 0:00:01.620143\n",
      "2\n",
      "time elapsed: 0:00:14.106261\n",
      "estimated time remaining: 0:00:01.410626\n",
      "1\n",
      "time elapsed: 0:00:24.250423\n",
      "estimated time remaining: 0:00:03.637563\n",
      "3\n",
      "time elapsed: 0:00:15.771068\n",
      "estimated time remaining: 0:00:00.788553\n",
      "3\n",
      "time elapsed: 0:00:23.667881\n",
      "estimated time remaining: 0:00:01.183394\n",
      "2\n",
      "time elapsed: 0:00:10.895211\n",
      "estimated time remaining: 0:00:01.089521\n",
      "3\n",
      "time elapsed: 0:00:19.361082\n",
      "estimated time remaining: 0:00:00.968054\n",
      "2\n",
      "time elapsed: 0:00:26.144311\n",
      "estimated time remaining: 0:00:02.614431\n",
      "3\n",
      "time elapsed: 0:00:05.300661\n",
      "estimated time remaining: 0:00:00.265033\n",
      "3\n",
      "time elapsed: 0:00:37.836823\n",
      "estimated time remaining: 0:00:01.891841\n",
      "3\n",
      "time elapsed: 0:00:22.983213\n",
      "estimated time remaining: 0:00:01.149161\n"
     ]
    }
   ],
   "source": [
    "def divide_chunks(l, n): \n",
    "      \n",
    "    # looping till length l \n",
    "    for i in range(0, len(l), n):  \n",
    "        yield l[i:i + n] \n",
    "\n",
    "\n",
    "# Parallelize Scraping\n",
    "chunks = divide_chunks(alphabet,4)\n",
    "pool = Pool(cpu_count() * 2)\n",
    "results = pool.map(scraper, chunks)\n",
    "pool.close()\n",
    "\n",
    "df_output = pd.concat(results,axis=0).reset_index(drop=True)\n",
    "\n"
   ]
  },
  {
   "cell_type": "code",
   "execution_count": 64,
   "metadata": {},
   "outputs": [
    {
     "data": {
      "text/plain": [
       "(248551, 4)"
      ]
     },
     "execution_count": 64,
     "metadata": {},
     "output_type": "execute_result"
    }
   ],
   "source": [
    "df_output.shape"
   ]
  },
  {
   "cell_type": "code",
   "execution_count": 65,
   "metadata": {},
   "outputs": [
    {
     "data": {
      "text/html": [
       "<div>\n",
       "<style scoped>\n",
       "    .dataframe tbody tr th:only-of-type {\n",
       "        vertical-align: middle;\n",
       "    }\n",
       "\n",
       "    .dataframe tbody tr th {\n",
       "        vertical-align: top;\n",
       "    }\n",
       "\n",
       "    .dataframe thead th {\n",
       "        text-align: right;\n",
       "    }\n",
       "</style>\n",
       "<table border=\"1\" class=\"dataframe\">\n",
       "  <thead>\n",
       "    <tr style=\"text-align: right;\">\n",
       "      <th></th>\n",
       "      <th>Mathematician</th>\n",
       "      <th>School</th>\n",
       "      <th>Year</th>\n",
       "      <th>id</th>\n",
       "    </tr>\n",
       "  </thead>\n",
       "  <tbody>\n",
       "    <tr>\n",
       "      <th>0</th>\n",
       "      <td>Aab, Michael</td>\n",
       "      <td>Universität Dortmund</td>\n",
       "      <td>1996</td>\n",
       "      <td>29044</td>\n",
       "    </tr>\n",
       "    <tr>\n",
       "      <th>1</th>\n",
       "      <td>Aaberge, Rolf</td>\n",
       "      <td>Universitetet i Oslo</td>\n",
       "      <td>1976</td>\n",
       "      <td>233136</td>\n",
       "    </tr>\n",
       "    <tr>\n",
       "      <th>2</th>\n",
       "      <td>Aaberge, Terje</td>\n",
       "      <td>Université de Genève</td>\n",
       "      <td>1975</td>\n",
       "      <td>160998</td>\n",
       "    </tr>\n",
       "    <tr>\n",
       "      <th>3</th>\n",
       "      <td>Aaboe, Asger</td>\n",
       "      <td>Brown University</td>\n",
       "      <td>1957</td>\n",
       "      <td>13670</td>\n",
       "    </tr>\n",
       "    <tr>\n",
       "      <th>4</th>\n",
       "      <td>Aabrandt, Andreas</td>\n",
       "      <td>Technical University of Denmark</td>\n",
       "      <td>2017</td>\n",
       "      <td>212917</td>\n",
       "    </tr>\n",
       "  </tbody>\n",
       "</table>\n",
       "</div>"
      ],
      "text/plain": [
       "       Mathematician                           School  Year      id\n",
       "0       Aab, Michael             Universität Dortmund  1996   29044\n",
       "1      Aaberge, Rolf             Universitetet i Oslo  1976  233136\n",
       "2     Aaberge, Terje             Université de Genève  1975  160998\n",
       "3       Aaboe, Asger                 Brown University  1957   13670\n",
       "4  Aabrandt, Andreas  Technical University of Denmark  2017  212917"
      ]
     },
     "execution_count": 65,
     "metadata": {},
     "output_type": "execute_result"
    }
   ],
   "source": [
    "df_output.head()"
   ]
  },
  {
   "cell_type": "code",
   "execution_count": 68,
   "metadata": {},
   "outputs": [],
   "source": [
    "df_output.to_csv('mathematicians.csv', index=False)"
   ]
  },
  {
   "cell_type": "code",
   "execution_count": null,
   "metadata": {},
   "outputs": [],
   "source": []
  }
 ],
 "metadata": {
  "kernelspec": {
   "display_name": "Python 3",
   "language": "python",
   "name": "python3"
  },
  "language_info": {
   "codemirror_mode": {
    "name": "ipython",
    "version": 3
   },
   "file_extension": ".py",
   "mimetype": "text/x-python",
   "name": "python",
   "nbconvert_exporter": "python",
   "pygments_lexer": "ipython3",
   "version": "3.7.1"
  }
 },
 "nbformat": 4,
 "nbformat_minor": 2
}
