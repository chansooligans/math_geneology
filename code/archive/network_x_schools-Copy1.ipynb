{
 "cells": [
  {
   "cell_type": "code",
   "execution_count": 40,
   "metadata": {},
   "outputs": [],
   "source": [
    "import pandas as pd\n",
    "import networkx as nx\n",
    "import matplotlib.pyplot as plt\n",
    "from matplotlib.pyplot import figure\n",
    "import string\n",
    "import datetime"
   ]
  },
  {
   "cell_type": "code",
   "execution_count": 64,
   "metadata": {},
   "outputs": [],
   "source": [
    "import matplotlib.pyplot as plt\n",
    "%matplotlib inline"
   ]
  },
  {
   "cell_type": "code",
   "execution_count": 41,
   "metadata": {},
   "outputs": [],
   "source": [
    "df = pd.read_csv('../data/math_geneology_final.csv')\n",
    "#df = df.head(500)\n",
    "df = df.fillna(' ')"
   ]
  },
  {
   "cell_type": "code",
   "execution_count": 42,
   "metadata": {},
   "outputs": [],
   "source": [
    "for col in ['student_school','advisor_school']:\n",
    "    df[col] = [x.strip() for x in df[col]]"
   ]
  },
  {
   "cell_type": "markdown",
   "metadata": {},
   "source": [
    "# Clean Data"
   ]
  },
  {
   "cell_type": "markdown",
   "metadata": {},
   "source": [
    "#### Advisor Year"
   ]
  },
  {
   "cell_type": "code",
   "execution_count": 43,
   "metadata": {},
   "outputs": [
    {
     "data": {
      "text/plain": [
       "{3, 4, 9, 10, 11, 14}"
      ]
     },
     "execution_count": 43,
     "metadata": {},
     "output_type": "execute_result"
    }
   ],
   "source": [
    "df = df.loc[df.advisor_year.notnull() & (df.advisor_year != ' '),:]\n",
    "set([len(x) for x in df.advisor_year])"
   ]
  },
  {
   "cell_type": "code",
   "execution_count": 44,
   "metadata": {},
   "outputs": [],
   "source": [
    "# Fix year with length = 3\n",
    "[x for x in df.advisor_year if len(x) < 4]\n",
    "df.loc[df.advisor_year == \"199\",'advisor_year'] = 1994"
   ]
  },
  {
   "cell_type": "code",
   "execution_count": 45,
   "metadata": {},
   "outputs": [],
   "source": [
    "# Some people have 2 years in the year column\n",
    "# Years are usually split by \",\" or \"/\" or \" \" or \"-\". Keep only the first year\n",
    "df.loc[[len(str(x)) > 4 for x in df.advisor_year],'advisor_year'] = [x.split(',')[0].strip() for x in df.advisor_year if len(str(x)) > 4]\n",
    "df.loc[[len(str(x)) > 4 for x in df.advisor_year],'advisor_year'] = [x.split('/')[0].strip() for x in df.advisor_year if len(str(x)) > 4]\n",
    "df.loc[[len(str(x)) > 4 for x in df.advisor_year],'advisor_year'] = [x.split(' ')[0].strip() for x in df.advisor_year if len(str(x)) > 4]\n",
    "df.loc[[len(str(x)) > 4 for x in df.advisor_year],'advisor_year'] = [x.split('-')[0].strip() for x in df.advisor_year if len(str(x)) > 4]"
   ]
  },
  {
   "cell_type": "code",
   "execution_count": 47,
   "metadata": {},
   "outputs": [],
   "source": [
    "# Convert to Integer\n",
    "df.advisor_year = [int(x) for x in df.advisor_year]"
   ]
  },
  {
   "cell_type": "markdown",
   "metadata": {},
   "source": [
    "# Nodes"
   ]
  },
  {
   "cell_type": "code",
   "execution_count": 48,
   "metadata": {},
   "outputs": [],
   "source": [
    "schools_1 = (df\n",
    "             .groupby('student_school')\n",
    "             .agg({'student_id':pd.Series.nunique})\n",
    "             .reset_index()\n",
    "             .rename({'student_school':'school',\n",
    "                      'student_id':'id'},axis=1))\n",
    "schools_2 = (df.groupby('advisor_school')\n",
    "             .agg({'advisor_name':pd.Series.nunique})\n",
    "             .reset_index()\n",
    "             .rename({'advisor_school':'school',\n",
    "                      'advisor_name':'id'},axis=1))\n",
    "df_schools = pd.concat([schools_1,schools_2],axis=0,sort=False)"
   ]
  },
  {
   "cell_type": "code",
   "execution_count": 49,
   "metadata": {},
   "outputs": [],
   "source": [
    "df_schools = df_schools.loc[df_schools.school != '',:].reset_index(drop=True)\n",
    "df_nodes = df_schools.groupby('school').agg({'id':'sum'}).reset_index()"
   ]
  },
  {
   "cell_type": "code",
   "execution_count": 50,
   "metadata": {},
   "outputs": [],
   "source": [
    "ids = df_nodes['school']\n",
    "nodes_dict = [{'id':df_nodes.loc[i,'id']} for i in range(df_nodes.shape[0])]\n",
    "nodes = [x for x in zip(ids,nodes_dict)]"
   ]
  },
  {
   "cell_type": "markdown",
   "metadata": {},
   "source": [
    "# Edges"
   ]
  },
  {
   "cell_type": "code",
   "execution_count": 52,
   "metadata": {},
   "outputs": [],
   "source": [
    "df_filtered = df.query('advisor_year > 2010')"
   ]
  },
  {
   "cell_type": "code",
   "execution_count": 53,
   "metadata": {},
   "outputs": [],
   "source": [
    "df_edges = df_filtered.groupby(['advisor_school','student_school']).agg({'id':'count'}).reset_index()\n",
    "df_edges['same_school'] = df_edges['advisor_school'] == df_edges['student_school']\n",
    "df_edges = df_edges.loc[(df_edges.student_school != '') & \n",
    "                        (df_edges.advisor_school != '') &\n",
    "                        (df_edges.same_school == False),:].reset_index(drop=True)"
   ]
  },
  {
   "cell_type": "code",
   "execution_count": 54,
   "metadata": {},
   "outputs": [],
   "source": [
    "edge_dict = [{'count':df_edges.loc[i,'id']} for i in range(df_edges.shape[0])]"
   ]
  },
  {
   "cell_type": "code",
   "execution_count": 55,
   "metadata": {},
   "outputs": [],
   "source": [
    "edges = [x for x in zip(df_edges['advisor_school'],df_edges['student_school'],edge_dict)]"
   ]
  },
  {
   "cell_type": "code",
   "execution_count": 56,
   "metadata": {},
   "outputs": [
    {
     "data": {
      "text/plain": [
       "5"
      ]
     },
     "execution_count": 56,
     "metadata": {},
     "output_type": "execute_result"
    }
   ],
   "source": [
    "len(df_edges.loc[df_edges.advisor_school.str.contains('New York Univ'),:]['id'])"
   ]
  },
  {
   "cell_type": "markdown",
   "metadata": {},
   "source": [
    "# Add to Graph"
   ]
  },
  {
   "cell_type": "code",
   "execution_count": 57,
   "metadata": {},
   "outputs": [],
   "source": [
    "G = nx.DiGraph()"
   ]
  },
  {
   "cell_type": "code",
   "execution_count": 58,
   "metadata": {},
   "outputs": [],
   "source": [
    "G.add_nodes_from(nodes)\n",
    "G.add_edges_from(edges)"
   ]
  },
  {
   "cell_type": "markdown",
   "metadata": {},
   "source": [
    "# Analysis"
   ]
  },
  {
   "cell_type": "code",
   "execution_count": 59,
   "metadata": {},
   "outputs": [
    {
     "data": {
      "text/html": [
       "<div>\n",
       "<style scoped>\n",
       "    .dataframe tbody tr th:only-of-type {\n",
       "        vertical-align: middle;\n",
       "    }\n",
       "\n",
       "    .dataframe tbody tr th {\n",
       "        vertical-align: top;\n",
       "    }\n",
       "\n",
       "    .dataframe thead th {\n",
       "        text-align: right;\n",
       "    }\n",
       "</style>\n",
       "<table border=\"1\" class=\"dataframe\">\n",
       "  <thead>\n",
       "    <tr style=\"text-align: right;\">\n",
       "      <th></th>\n",
       "      <th>0</th>\n",
       "    </tr>\n",
       "  </thead>\n",
       "  <tbody>\n",
       "    <tr>\n",
       "      <th>Massachusetts Institute of Technology</th>\n",
       "      <td>0.004698</td>\n",
       "    </tr>\n",
       "    <tr>\n",
       "      <th>Stanford University</th>\n",
       "      <td>0.004404</td>\n",
       "    </tr>\n",
       "    <tr>\n",
       "      <th>University of California, Berkeley</th>\n",
       "      <td>0.004110</td>\n",
       "    </tr>\n",
       "    <tr>\n",
       "      <th>The Pennsylvania State University</th>\n",
       "      <td>0.003817</td>\n",
       "    </tr>\n",
       "    <tr>\n",
       "      <th>University of Minnesota-Minneapolis</th>\n",
       "      <td>0.003230</td>\n",
       "    </tr>\n",
       "    <tr>\n",
       "      <th>Georgia Institute of Technology</th>\n",
       "      <td>0.003230</td>\n",
       "    </tr>\n",
       "    <tr>\n",
       "      <th>Princeton University</th>\n",
       "      <td>0.002642</td>\n",
       "    </tr>\n",
       "    <tr>\n",
       "      <th>University of Illinois at Urbana-Champaign</th>\n",
       "      <td>0.002642</td>\n",
       "    </tr>\n",
       "    <tr>\n",
       "      <th>North Carolina State University</th>\n",
       "      <td>0.002642</td>\n",
       "    </tr>\n",
       "    <tr>\n",
       "      <th>University of Oxford</th>\n",
       "      <td>0.002349</td>\n",
       "    </tr>\n",
       "  </tbody>\n",
       "</table>\n",
       "</div>"
      ],
      "text/plain": [
       "                                                   0\n",
       "Massachusetts Institute of Technology       0.004698\n",
       "Stanford University                         0.004404\n",
       "University of California, Berkeley          0.004110\n",
       "The Pennsylvania State University           0.003817\n",
       "University of Minnesota-Minneapolis         0.003230\n",
       "Georgia Institute of Technology             0.003230\n",
       "Princeton University                        0.002642\n",
       "University of Illinois at Urbana-Champaign  0.002642\n",
       "North Carolina State University             0.002642\n",
       "University of Oxford                        0.002349"
      ]
     },
     "execution_count": 59,
     "metadata": {},
     "output_type": "execute_result"
    }
   ],
   "source": [
    "# Degree Centrality\n",
    "\n",
    "cent = nx.degree_centrality(G)\n",
    "df_cent = pd.DataFrame(pd.Series(cent))\n",
    "df_cent.sort_values(0,ascending=False).head(10)"
   ]
  },
  {
   "cell_type": "code",
   "execution_count": 60,
   "metadata": {},
   "outputs": [
    {
     "data": {
      "text/html": [
       "<div>\n",
       "<style scoped>\n",
       "    .dataframe tbody tr th:only-of-type {\n",
       "        vertical-align: middle;\n",
       "    }\n",
       "\n",
       "    .dataframe tbody tr th {\n",
       "        vertical-align: top;\n",
       "    }\n",
       "\n",
       "    .dataframe thead th {\n",
       "        text-align: right;\n",
       "    }\n",
       "</style>\n",
       "<table border=\"1\" class=\"dataframe\">\n",
       "  <thead>\n",
       "    <tr style=\"text-align: right;\">\n",
       "      <th></th>\n",
       "      <th>0</th>\n",
       "    </tr>\n",
       "  </thead>\n",
       "  <tbody>\n",
       "    <tr>\n",
       "      <th>Massachusetts Institute of Technology</th>\n",
       "      <td>0.003523</td>\n",
       "    </tr>\n",
       "    <tr>\n",
       "      <th>Stanford University</th>\n",
       "      <td>0.003523</td>\n",
       "    </tr>\n",
       "    <tr>\n",
       "      <th>University of California, Berkeley</th>\n",
       "      <td>0.003230</td>\n",
       "    </tr>\n",
       "    <tr>\n",
       "      <th>The Pennsylvania State University</th>\n",
       "      <td>0.002642</td>\n",
       "    </tr>\n",
       "    <tr>\n",
       "      <th>Georgia Institute of Technology</th>\n",
       "      <td>0.002055</td>\n",
       "    </tr>\n",
       "    <tr>\n",
       "      <th>Princeton University</th>\n",
       "      <td>0.002055</td>\n",
       "    </tr>\n",
       "    <tr>\n",
       "      <th>University of Illinois at Urbana-Champaign</th>\n",
       "      <td>0.002055</td>\n",
       "    </tr>\n",
       "    <tr>\n",
       "      <th>University of Michigan</th>\n",
       "      <td>0.001762</td>\n",
       "    </tr>\n",
       "    <tr>\n",
       "      <th>Gottfried Wilhelm Leibniz Universität Hannover</th>\n",
       "      <td>0.001762</td>\n",
       "    </tr>\n",
       "    <tr>\n",
       "      <th>Yale University</th>\n",
       "      <td>0.001762</td>\n",
       "    </tr>\n",
       "  </tbody>\n",
       "</table>\n",
       "</div>"
      ],
      "text/plain": [
       "                                                       0\n",
       "Massachusetts Institute of Technology           0.003523\n",
       "Stanford University                             0.003523\n",
       "University of California, Berkeley              0.003230\n",
       "The Pennsylvania State University               0.002642\n",
       "Georgia Institute of Technology                 0.002055\n",
       "Princeton University                            0.002055\n",
       "University of Illinois at Urbana-Champaign      0.002055\n",
       "University of Michigan                          0.001762\n",
       "Gottfried Wilhelm Leibniz Universität Hannover  0.001762\n",
       "Yale University                                 0.001762"
      ]
     },
     "execution_count": 60,
     "metadata": {},
     "output_type": "execute_result"
    }
   ],
   "source": [
    "# Out-Degree Centrality\n",
    "\n",
    "cent = nx.out_degree_centrality(G)\n",
    "df_cent = pd.DataFrame(pd.Series(cent))\n",
    "df_cent.sort_values(0,ascending=False).head(10)"
   ]
  },
  {
   "cell_type": "code",
   "execution_count": 61,
   "metadata": {},
   "outputs": [
    {
     "data": {
      "text/html": [
       "<div>\n",
       "<style scoped>\n",
       "    .dataframe tbody tr th:only-of-type {\n",
       "        vertical-align: middle;\n",
       "    }\n",
       "\n",
       "    .dataframe tbody tr th {\n",
       "        vertical-align: top;\n",
       "    }\n",
       "\n",
       "    .dataframe thead th {\n",
       "        text-align: right;\n",
       "    }\n",
       "</style>\n",
       "<table border=\"1\" class=\"dataframe\">\n",
       "  <thead>\n",
       "    <tr style=\"text-align: right;\">\n",
       "      <th></th>\n",
       "      <th>0</th>\n",
       "    </tr>\n",
       "  </thead>\n",
       "  <tbody>\n",
       "    <tr>\n",
       "      <th>North Carolina State University</th>\n",
       "      <td>0.002349</td>\n",
       "    </tr>\n",
       "    <tr>\n",
       "      <th>Purdue University</th>\n",
       "      <td>0.001762</td>\n",
       "    </tr>\n",
       "    <tr>\n",
       "      <th>University of Minnesota-Minneapolis</th>\n",
       "      <td>0.001468</td>\n",
       "    </tr>\n",
       "    <tr>\n",
       "      <th>Instituto de Matemática Pura e Aplicada</th>\n",
       "      <td>0.001174</td>\n",
       "    </tr>\n",
       "    <tr>\n",
       "      <th>The Pennsylvania State University</th>\n",
       "      <td>0.001174</td>\n",
       "    </tr>\n",
       "    <tr>\n",
       "      <th>ETH Zürich</th>\n",
       "      <td>0.001174</td>\n",
       "    </tr>\n",
       "    <tr>\n",
       "      <th>Georgia Institute of Technology</th>\n",
       "      <td>0.001174</td>\n",
       "    </tr>\n",
       "    <tr>\n",
       "      <th>Technische Universität Darmstadt</th>\n",
       "      <td>0.001174</td>\n",
       "    </tr>\n",
       "    <tr>\n",
       "      <th>The University of Chicago</th>\n",
       "      <td>0.001174</td>\n",
       "    </tr>\n",
       "    <tr>\n",
       "      <th>Massachusetts Institute of Technology</th>\n",
       "      <td>0.001174</td>\n",
       "    </tr>\n",
       "  </tbody>\n",
       "</table>\n",
       "</div>"
      ],
      "text/plain": [
       "                                                0\n",
       "North Carolina State University          0.002349\n",
       "Purdue University                        0.001762\n",
       "University of Minnesota-Minneapolis      0.001468\n",
       "Instituto de Matemática Pura e Aplicada  0.001174\n",
       "The Pennsylvania State University        0.001174\n",
       "ETH Zürich                               0.001174\n",
       "Georgia Institute of Technology          0.001174\n",
       "Technische Universität Darmstadt         0.001174\n",
       "The University of Chicago                0.001174\n",
       "Massachusetts Institute of Technology    0.001174"
      ]
     },
     "execution_count": 61,
     "metadata": {},
     "output_type": "execute_result"
    }
   ],
   "source": [
    "# In-Degree Centrality\n",
    "\n",
    "cent = nx.in_degree_centrality(G)\n",
    "df_cent = pd.DataFrame(pd.Series(cent))\n",
    "df_cent.sort_values(0,ascending=False).head(10)"
   ]
  },
  {
   "cell_type": "code",
   "execution_count": 63,
   "metadata": {},
   "outputs": [
    {
     "data": {
      "text/html": [
       "<div>\n",
       "<style scoped>\n",
       "    .dataframe tbody tr th:only-of-type {\n",
       "        vertical-align: middle;\n",
       "    }\n",
       "\n",
       "    .dataframe tbody tr th {\n",
       "        vertical-align: top;\n",
       "    }\n",
       "\n",
       "    .dataframe thead th {\n",
       "        text-align: right;\n",
       "    }\n",
       "</style>\n",
       "<table border=\"1\" class=\"dataframe\">\n",
       "  <thead>\n",
       "    <tr style=\"text-align: right;\">\n",
       "      <th></th>\n",
       "      <th>0</th>\n",
       "    </tr>\n",
       "  </thead>\n",
       "  <tbody>\n",
       "    <tr>\n",
       "      <th>North Carolina State University</th>\n",
       "      <td>0.325394</td>\n",
       "    </tr>\n",
       "    <tr>\n",
       "      <th>The University of Chicago</th>\n",
       "      <td>0.293670</td>\n",
       "    </tr>\n",
       "    <tr>\n",
       "      <th>University of Wisconsin-Madison</th>\n",
       "      <td>0.232226</td>\n",
       "    </tr>\n",
       "    <tr>\n",
       "      <th>Stanford University</th>\n",
       "      <td>0.224977</td>\n",
       "    </tr>\n",
       "    <tr>\n",
       "      <th>Massachusetts Institute of Technology</th>\n",
       "      <td>0.222221</td>\n",
       "    </tr>\n",
       "    <tr>\n",
       "      <th>Georgia Institute of Technology</th>\n",
       "      <td>0.174656</td>\n",
       "    </tr>\n",
       "    <tr>\n",
       "      <th>University of Notre Dame</th>\n",
       "      <td>0.173258</td>\n",
       "    </tr>\n",
       "    <tr>\n",
       "      <th>The Pennsylvania State University</th>\n",
       "      <td>0.170591</td>\n",
       "    </tr>\n",
       "    <tr>\n",
       "      <th>University of Connecticut</th>\n",
       "      <td>0.163699</td>\n",
       "    </tr>\n",
       "    <tr>\n",
       "      <th>University of Waterloo</th>\n",
       "      <td>0.157925</td>\n",
       "    </tr>\n",
       "  </tbody>\n",
       "</table>\n",
       "</div>"
      ],
      "text/plain": [
       "                                              0\n",
       "North Carolina State University        0.325394\n",
       "The University of Chicago              0.293670\n",
       "University of Wisconsin-Madison        0.232226\n",
       "Stanford University                    0.224977\n",
       "Massachusetts Institute of Technology  0.222221\n",
       "Georgia Institute of Technology        0.174656\n",
       "University of Notre Dame               0.173258\n",
       "The Pennsylvania State University      0.170591\n",
       "University of Connecticut              0.163699\n",
       "University of Waterloo                 0.157925"
      ]
     },
     "execution_count": 63,
     "metadata": {},
     "output_type": "execute_result"
    }
   ],
   "source": [
    "# Eigenvector Centrality\n",
    "\n",
    "cent = nx.eigenvector_centrality(G)\n",
    "df_cent = pd.DataFrame(pd.Series(cent))\n",
    "df_cent.sort_values(0,ascending=False).head(10)"
   ]
  },
  {
   "cell_type": "markdown",
   "metadata": {},
   "source": [
    "# Export Graph"
   ]
  },
  {
   "cell_type": "code",
   "execution_count": 80,
   "metadata": {},
   "outputs": [],
   "source": [
    "nx.write_graphml(G,'../data/g.xml')"
   ]
  },
  {
   "cell_type": "markdown",
   "metadata": {},
   "source": [
    "# Plots"
   ]
  },
  {
   "cell_type": "code",
   "execution_count": 65,
   "metadata": {},
   "outputs": [],
   "source": [
    "def draw_graph_layout(graph, layout, ax):\n",
    "    ax.scatter([v[0] for k, v in layout.items()], [v[1] for k, v in layout.items()], s = 2)\n",
    "    for e in [e for e in graph.edges]:\n",
    "        ax.plot([layout[i][0] for i in e], [layout[i][1] for i in e], c = \"steelblue\", lw = 0.1)"
   ]
  },
  {
   "cell_type": "code",
   "execution_count": null,
   "metadata": {},
   "outputs": [],
   "source": []
  }
 ],
 "metadata": {
  "kernelspec": {
   "display_name": "Python 3",
   "language": "python",
   "name": "python3"
  },
  "language_info": {
   "codemirror_mode": {
    "name": "ipython",
    "version": 3
   },
   "file_extension": ".py",
   "mimetype": "text/x-python",
   "name": "python",
   "nbconvert_exporter": "python",
   "pygments_lexer": "ipython3",
   "version": "3.7.1"
  }
 },
 "nbformat": 4,
 "nbformat_minor": 2
}
