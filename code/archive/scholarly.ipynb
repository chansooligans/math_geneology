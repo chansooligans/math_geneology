{
 "cells": [
  {
   "cell_type": "code",
   "execution_count": 3,
   "metadata": {},
   "outputs": [],
   "source": [
    "import pandas as pd\n",
    "import scholarly"
   ]
  },
  {
   "cell_type": "code",
   "execution_count": 6,
   "metadata": {},
   "outputs": [],
   "source": [
    "df = pd.read_csv('../data/math_geneology_final.csv')"
   ]
  },
  {
   "cell_type": "code",
   "execution_count": 7,
   "metadata": {},
   "outputs": [
    {
     "data": {
      "text/html": [
       "<div>\n",
       "<style scoped>\n",
       "    .dataframe tbody tr th:only-of-type {\n",
       "        vertical-align: middle;\n",
       "    }\n",
       "\n",
       "    .dataframe tbody tr th {\n",
       "        vertical-align: top;\n",
       "    }\n",
       "\n",
       "    .dataframe thead th {\n",
       "        text-align: right;\n",
       "    }\n",
       "</style>\n",
       "<table border=\"1\" class=\"dataframe\">\n",
       "  <thead>\n",
       "    <tr style=\"text-align: right;\">\n",
       "      <th></th>\n",
       "      <th>Unnamed: 0</th>\n",
       "      <th>id</th>\n",
       "      <th>student_id</th>\n",
       "      <th>student_name</th>\n",
       "      <th>student_school</th>\n",
       "      <th>student_year</th>\n",
       "      <th>student_descendants</th>\n",
       "      <th>advisor_name</th>\n",
       "      <th>advisor_school</th>\n",
       "      <th>advisor_year</th>\n",
       "    </tr>\n",
       "  </thead>\n",
       "  <tbody>\n",
       "    <tr>\n",
       "      <th>0</th>\n",
       "      <td>0</td>\n",
       "      <td>233136</td>\n",
       "      <td>233138</td>\n",
       "      <td>Mogstad, Magne</td>\n",
       "      <td>Universitetet i Oslo</td>\n",
       "      <td>2008</td>\n",
       "      <td>1.0</td>\n",
       "      <td>Aaberge, Rolf</td>\n",
       "      <td>Universitetet i Oslo</td>\n",
       "      <td>1976</td>\n",
       "    </tr>\n",
       "    <tr>\n",
       "      <th>1</th>\n",
       "      <td>1</td>\n",
       "      <td>13670</td>\n",
       "      <td>106100</td>\n",
       "      <td>Anagnostakis, Christopher</td>\n",
       "      <td>Yale University</td>\n",
       "      <td>1984</td>\n",
       "      <td>NaN</td>\n",
       "      <td>Aaboe, Asger</td>\n",
       "      <td>Brown University</td>\n",
       "      <td>1957</td>\n",
       "    </tr>\n",
       "    <tr>\n",
       "      <th>2</th>\n",
       "      <td>2</td>\n",
       "      <td>13670</td>\n",
       "      <td>122878</td>\n",
       "      <td>Britton, John</td>\n",
       "      <td>Yale University</td>\n",
       "      <td>1966</td>\n",
       "      <td>NaN</td>\n",
       "      <td>Aaboe, Asger</td>\n",
       "      <td>Brown University</td>\n",
       "      <td>1957</td>\n",
       "    </tr>\n",
       "    <tr>\n",
       "      <th>3</th>\n",
       "      <td>3</td>\n",
       "      <td>13670</td>\n",
       "      <td>122880</td>\n",
       "      <td>Slotsky, Alice</td>\n",
       "      <td>Yale University</td>\n",
       "      <td>1992</td>\n",
       "      <td>1.0</td>\n",
       "      <td>Aaboe, Asger</td>\n",
       "      <td>Brown University</td>\n",
       "      <td>1957</td>\n",
       "    </tr>\n",
       "    <tr>\n",
       "      <th>4</th>\n",
       "      <td>4</td>\n",
       "      <td>13670</td>\n",
       "      <td>122881</td>\n",
       "      <td>Swerdlow, Noel</td>\n",
       "      <td>Yale University</td>\n",
       "      <td>1968</td>\n",
       "      <td>NaN</td>\n",
       "      <td>Aaboe, Asger</td>\n",
       "      <td>Brown University</td>\n",
       "      <td>1957</td>\n",
       "    </tr>\n",
       "  </tbody>\n",
       "</table>\n",
       "</div>"
      ],
      "text/plain": [
       "   Unnamed: 0      id  student_id               student_name  \\\n",
       "0           0  233136      233138             Mogstad, Magne   \n",
       "1           1   13670      106100  Anagnostakis, Christopher   \n",
       "2           2   13670      122878              Britton, John   \n",
       "3           3   13670      122880             Slotsky, Alice   \n",
       "4           4   13670      122881             Swerdlow, Noel   \n",
       "\n",
       "         student_school student_year  student_descendants   advisor_name  \\\n",
       "0  Universitetet i Oslo         2008                  1.0  Aaberge, Rolf   \n",
       "1       Yale University         1984                  NaN   Aaboe, Asger   \n",
       "2       Yale University         1966                  NaN   Aaboe, Asger   \n",
       "3       Yale University         1992                  1.0   Aaboe, Asger   \n",
       "4       Yale University         1968                  NaN   Aaboe, Asger   \n",
       "\n",
       "         advisor_school advisor_year  \n",
       "0  Universitetet i Oslo         1976  \n",
       "1      Brown University         1957  \n",
       "2      Brown University         1957  \n",
       "3      Brown University         1957  \n",
       "4      Brown University         1957  "
      ]
     },
     "execution_count": 7,
     "metadata": {},
     "output_type": "execute_result"
    }
   ],
   "source": [
    "df.head()"
   ]
  },
  {
   "cell_type": "code",
   "execution_count": 10,
   "metadata": {},
   "outputs": [
    {
     "data": {
      "text/html": [
       "<div>\n",
       "<style scoped>\n",
       "    .dataframe tbody tr th:only-of-type {\n",
       "        vertical-align: middle;\n",
       "    }\n",
       "\n",
       "    .dataframe tbody tr th {\n",
       "        vertical-align: top;\n",
       "    }\n",
       "\n",
       "    .dataframe thead th {\n",
       "        text-align: right;\n",
       "    }\n",
       "</style>\n",
       "<table border=\"1\" class=\"dataframe\">\n",
       "  <thead>\n",
       "    <tr style=\"text-align: right;\">\n",
       "      <th></th>\n",
       "      <th>Unnamed: 0</th>\n",
       "      <th>id</th>\n",
       "      <th>student_id</th>\n",
       "      <th>student_name</th>\n",
       "      <th>student_school</th>\n",
       "      <th>student_year</th>\n",
       "      <th>student_descendants</th>\n",
       "      <th>advisor_name</th>\n",
       "      <th>advisor_school</th>\n",
       "      <th>advisor_year</th>\n",
       "    </tr>\n",
       "  </thead>\n",
       "  <tbody>\n",
       "    <tr>\n",
       "      <th>162003</th>\n",
       "      <td>162003</td>\n",
       "      <td>233138</td>\n",
       "      <td>234953</td>\n",
       "      <td>Mountjoy, Jack</td>\n",
       "      <td>The University of Chicago</td>\n",
       "      <td>2018</td>\n",
       "      <td>NaN</td>\n",
       "      <td>Mogstad, Magne</td>\n",
       "      <td>Universitetet i Oslo</td>\n",
       "      <td>2008</td>\n",
       "    </tr>\n",
       "  </tbody>\n",
       "</table>\n",
       "</div>"
      ],
      "text/plain": [
       "        Unnamed: 0      id  student_id    student_name  \\\n",
       "162003      162003  233138      234953  Mountjoy, Jack   \n",
       "\n",
       "                   student_school student_year  student_descendants  \\\n",
       "162003  The University of Chicago         2018                  NaN   \n",
       "\n",
       "          advisor_name        advisor_school advisor_year  \n",
       "162003  Mogstad, Magne  Universitetet i Oslo         2008  "
      ]
     },
     "execution_count": 10,
     "metadata": {},
     "output_type": "execute_result"
    }
   ],
   "source": [
    "df.query('advisor_name == \"Mogstad, Magne\"')"
   ]
  },
  {
   "cell_type": "code",
   "execution_count": 23,
   "metadata": {},
   "outputs": [],
   "source": [
    "search_res = scholarly.search_author('Britton, John')"
   ]
  },
  {
   "cell_type": "code",
   "execution_count": 24,
   "metadata": {},
   "outputs": [
    {
     "name": "stdout",
     "output_type": "stream",
     "text": [
      "{'_filled': False,\n",
      " 'affiliation': 'Professor Nottingham',\n",
      " 'citedby': 25039,\n",
      " 'email': '@nottingham.ac.uk',\n",
      " 'id': 'UK9ETCcAAAAJ',\n",
      " 'interests': ['epidemiology smoking  tobacco respiratory'],\n",
      " 'name': 'John Britton',\n",
      " 'url_picture': 'https://scholar.google.com/citations?view_op=medium_photo&user=UK9ETCcAAAAJ'}\n"
     ]
    }
   ],
   "source": [
    "print(next(search_res))"
   ]
  },
  {
   "cell_type": "code",
   "execution_count": null,
   "metadata": {},
   "outputs": [],
   "source": []
  }
 ],
 "metadata": {
  "kernelspec": {
   "display_name": "Python 3",
   "language": "python",
   "name": "python3"
  },
  "language_info": {
   "codemirror_mode": {
    "name": "ipython",
    "version": 3
   },
   "file_extension": ".py",
   "mimetype": "text/x-python",
   "name": "python",
   "nbconvert_exporter": "python",
   "pygments_lexer": "ipython3",
   "version": "3.7.1"
  }
 },
 "nbformat": 4,
 "nbformat_minor": 2
}
