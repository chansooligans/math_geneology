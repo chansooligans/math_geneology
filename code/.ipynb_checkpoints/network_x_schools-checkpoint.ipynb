{
 "cells": [
  {
   "cell_type": "code",
   "execution_count": 1,
   "metadata": {},
   "outputs": [],
   "source": [
    "import pandas as pd\n",
    "import networkx as nx\n",
    "import matplotlib.pyplot as plt\n",
    "from matplotlib.pyplot import figure\n",
    "import string\n",
    "import datetime"
   ]
  },
  {
   "cell_type": "code",
   "execution_count": 2,
   "metadata": {},
   "outputs": [],
   "source": [
    "import matplotlib.pyplot as plt\n",
    "%matplotlib inline"
   ]
  },
  {
   "cell_type": "code",
   "execution_count": 3,
   "metadata": {},
   "outputs": [],
   "source": [
    "df = pd.read_csv('../data/math_geneology_final.csv')\n",
    "#df = df.head(500)\n",
    "df = df.fillna(' ')"
   ]
  },
  {
   "cell_type": "markdown",
   "metadata": {},
   "source": [
    "# Clean Data"
   ]
  },
  {
   "cell_type": "code",
   "execution_count": 5,
   "metadata": {},
   "outputs": [],
   "source": [
    "#### Ensure Certain Columns Exist\n",
    "cols = ['advisor_year','student_year','advisor_school','student_school']\n",
    "for col in cols:\n",
    "    df = df.loc[df[col].notnull() & (df[col] != ' '),:]"
   ]
  },
  {
   "cell_type": "markdown",
   "metadata": {},
   "source": [
    "#### School Names"
   ]
  },
  {
   "cell_type": "code",
   "execution_count": 6,
   "metadata": {},
   "outputs": [],
   "source": [
    "for col in ['student_school','advisor_school']:\n",
    "    df[col] = [x.strip() for x in df[col]]"
   ]
  },
  {
   "cell_type": "markdown",
   "metadata": {},
   "source": [
    "#### Years"
   ]
  },
  {
   "cell_type": "code",
   "execution_count": 7,
   "metadata": {},
   "outputs": [],
   "source": [
    "def fix_year(char, col):\n",
    "    \n",
    "    # Some people have 2 years in the year column\n",
    "    # Years are usually split by \",\" or \"/\" or \" \" or \"-\". Keep only the first year\n",
    "    rows_to_fix = [len(str(x)) > 4 for x in df[col]]\n",
    "    df.loc[rows_to_fix,col] = [x.split(char)[0].strip() for x in df.loc[rows_to_fix,col]]\n",
    "    \n",
    "for char in [',','/',' ','-']:\n",
    "    fix_year(char,'advisor_year')\n",
    "    fix_year(char,'student_year')    "
   ]
  },
  {
   "cell_type": "code",
   "execution_count": 9,
   "metadata": {},
   "outputs": [],
   "source": [
    "# Convert to Integer\n",
    "df = df.loc[(df.student_year != 'Aug.'),:]\n",
    "df.advisor_year = [int(x) for x in df.advisor_year]\n",
    "df.student_year = [int(x) for x in df.student_year]\n",
    "df = df.query('student_year < 2020 & student_year > 1000')"
   ]
  },
  {
   "cell_type": "markdown",
   "metadata": {},
   "source": [
    "# Graph"
   ]
  },
  {
   "cell_type": "code",
   "execution_count": 11,
   "metadata": {},
   "outputs": [],
   "source": [
    "def make_school_digraph(df_year):\n",
    "    schools_df = pd.concat([df_year[[c]].rename(columns = {c: \"school\"}) for c in [\"student_school\", \"advisor_school\"]]).drop_duplicates()\n",
    "    \n",
    "    school_digraph = nx.DiGraph()\n",
    "    # Nodes are schools (student and advisors) identified by name\n",
    "    school_digraph.add_nodes_from(schools_df.school.values)\n",
    "    \n",
    "    # Edges connect advisor and student schools and are weighted by the number of advisor-students\n",
    "    edges_df = df_year.groupby([\"student_school\", \"advisor_school\"], as_index = False).agg({\"student_id\": \"count\"})\n",
    "    edges = [(e[\"advisor_school\"], e[\"student_school\"], {\"weight\": e[\"student_id\"]}) for e in edges_df.to_dict(orient = \"records\")]\n",
    "    school_digraph.add_edges_from(edges)\n",
    "    return school_digraph"
   ]
  },
  {
   "cell_type": "code",
   "execution_count": 12,
   "metadata": {},
   "outputs": [],
   "source": [
    "df_filtered = df.query('student_year == 2010')\n",
    "school_digraph = make_school_digraph(df_filtered)"
   ]
  },
  {
   "cell_type": "markdown",
   "metadata": {},
   "source": [
    "# Analysis"
   ]
  },
  {
   "cell_type": "markdown",
   "metadata": {},
   "source": [
    "Preliminary Notes:\n",
    "- A path is a sequence of nodes with property that each consecutive pair in the sequence is connected by an edge. In this context, a path [A -> B -> C] would mean that at least one student graduated from school A then subsequently taught students at school B AND at least one student graduated from school B then subsequently taught students at school C.\n",
    "\n",
    "#### Centrality:\n",
    "\n",
    "**Degree**: The degree centrality for a node v is the fraction of nodes it is connected to.\n",
    "\n",
    "- A school with high degree centrality receives/sends professors to/from a wide variety of schools\n",
    "\n",
    "**Eigenvector**: Eigenvector centrality computes the centrality for a node based on the centrality of its neighbors. (using adjacency matrix)\n",
    "\n",
    "- A school with high eigenvector centrality receives/sends professors to/from schools that are also highly ranked\n",
    "\n",
    "**Closeness**: Reciprocal of the average shortest path distance incoming to the node over all reachable nodes (use G.reverse() to use outward distance)\n",
    "\n",
    "**Betwenness**: Sum of the fraction of all-pairs shortest paths that pass through the node"
   ]
  },
  {
   "cell_type": "code",
   "execution_count": null,
   "metadata": {},
   "outputs": [],
   "source": [
    "def get_centrality_measures(G):\n",
    "\n",
    "    centrality_measures = [\n",
    "        ['degree', nx.degree_centrality(G)],\n",
    "        ['in_degree', nx.in_degree_centrality(G)],\n",
    "        ['out_degree', nx.out_degree_centrality(G)],\n",
    "        ['in_eigenvector', nx.eigenvector_centrality(G, weight='weight')],\n",
    "        ['out_eigenvector', nx.eigenvector_centrality(G.reverse(), weight='weight')],    \n",
    "        ['in_closeness', nx.closeness_centrality(G)],\n",
    "        ['out_closeness', nx.closeness_centrality(G.reverse())],\n",
    "        ['betweenness',nx.betweenness_centrality(G, weight='weight')]\n",
    "    ]\n",
    "    \n",
    "    top_tens = [pd.Series(measure[1]).sort_values(ascending=False) for measure in centrality_measures]\n",
    "    df_centrality = pd.concat(top_tens,axis=1,sort=False)\n",
    "    df_centrality.columns = [measure[0] for measure in centrality_measures]\n",
    "    df_centrality['school'] = df_centrality.index\n",
    "    \n",
    "    return(df_centrality)"
   ]
  },
  {
   "cell_type": "code",
   "execution_count": null,
   "metadata": {},
   "outputs": [],
   "source": [
    "school_centralities = get_centrality_measures(school_digraph)\n",
    "school_centralities.corr()"
   ]
  },
  {
   "cell_type": "code",
   "execution_count": null,
   "metadata": {},
   "outputs": [],
   "source": [
    "school_centralities.sort_values('out_eigenvector',ascending=False).head(30)"
   ]
  },
  {
   "cell_type": "code",
   "execution_count": null,
   "metadata": {},
   "outputs": [],
   "source": [
    "df['student_year'][df['student_year']<1900].hist()"
   ]
  },
  {
   "cell_type": "markdown",
   "metadata": {},
   "source": [
    "# Centralities Over Time"
   ]
  },
  {
   "cell_type": "code",
   "execution_count": null,
   "metadata": {},
   "outputs": [],
   "source": [
    "school_digraph_list = []\n",
    "centralities_over_time_list = []\n",
    "years = range(1800,2018,10)\n",
    "\n",
    "for year in years:\n",
    "    print(year)\n",
    "    df_students_year = df.query('student_year >= @year & student_year < @year + 10')\n",
    "    school_digraph = make_school_digraph(df_students_year)\n",
    "    df_centralities_year = get_centrality_measures(school_digraph)\n",
    "    df_centralities_year['year'] = year\n",
    "    \n",
    "    school_digraph_list.append(school_digraph)\n",
    "    centralities_over_time_list.append(df_centralities_year)"
   ]
  },
  {
   "cell_type": "code",
   "execution_count": null,
   "metadata": {},
   "outputs": [],
   "source": [
    "df_centralities = pd.concat(centralities_over_time_list,axis=0,sort=False)"
   ]
  },
  {
   "cell_type": "markdown",
   "metadata": {},
   "source": [
    "# Lineplots"
   ]
  },
  {
   "cell_type": "code",
   "execution_count": null,
   "metadata": {},
   "outputs": [],
   "source": [
    "df_centralities['year'].value_counts()"
   ]
  },
  {
   "cell_type": "code",
   "execution_count": null,
   "metadata": {},
   "outputs": [],
   "source": [
    "from bokeh.io import show\n",
    "from bokeh.models import ColumnDataSource\n",
    "from bokeh.models import HoverTool\n",
    "from bokeh.palettes import cividis\n",
    "from bokeh.plotting import figure"
   ]
  },
  {
   "cell_type": "code",
   "execution_count": null,
   "metadata": {},
   "outputs": [],
   "source": [
    "df_centralities.head()"
   ]
  },
  {
   "cell_type": "code",
   "execution_count": null,
   "metadata": {},
   "outputs": [],
   "source": [
    "# Subset to Schools that are in top N-number of schools in at least one decade\n",
    "\n",
    "def line_plot_schools(df_centralities, centrality_measure, n):\n",
    "\n",
    "    schools_to_keep = []\n",
    "    for year in df_centralities['year'].unique():\n",
    "        schools = df_centralities.loc[df_centralities['year'] == year,:].sort_values(centrality_measure, ascending = False)['school'][0:n]\n",
    "        schools_to_keep += list(schools)\n",
    "    df_centralities_subset = df_centralities.loc[[x in list(set(schools_to_keep)) for x in df_centralities['school']],:]   \n",
    "    \n",
    "    \n",
    "    # Plot (Copied and pasted from some blog -- hence the messiness)\n",
    "    \n",
    "    df = df_centralities_subset\n",
    "    df = df.rename({'year':'x',centrality_measure:'y','school':'group'},axis=1)\n",
    "\n",
    "    grp_list = df.group.unique()\n",
    "    xs = [df.loc[df.group == i].x for i in grp_list]\n",
    "    ys = [df.loc[df.group == i].y for i in grp_list]\n",
    "    source = ColumnDataSource(data=dict(\n",
    "         x = xs,\n",
    "         y = ys,\n",
    "         color = cividis(len(grp_list)),\n",
    "         group = grp_list))\n",
    "    p3 = figure(plot_width=1600, plot_height=900)\n",
    "    p3.multi_line(\n",
    "         xs='x',\n",
    "         ys='y',\n",
    "         legend=False,\n",
    "         source=source,\n",
    "         line_color='color')\n",
    "    #Add hover tools, basically an invisible line\n",
    "    source2 = ColumnDataSource(dict(\n",
    "         invisible_xs=df.x,\n",
    "         invisible_ys=df.y,\n",
    "         group = df.group))\n",
    "    line = p3.line(\n",
    "         'invisible_xs',\n",
    "         'invisible_ys',\n",
    "         source=source2,\n",
    "         alpha=0)\n",
    "    #hover = HoverTool(tooltips =[\n",
    "    #     ('group','@group')])\n",
    "    #hover.renderers = [line]\n",
    "    #p3.add_tools(hover)\n",
    "    p3.add_tools(HoverTool(show_arrow=False, line_policy='nearest', tooltips=[\n",
    "        ('group', '@group')\n",
    "    ]))\n",
    "\n",
    "    show(p3)"
   ]
  },
  {
   "cell_type": "code",
   "execution_count": null,
   "metadata": {},
   "outputs": [],
   "source": [
    "line_plot_schools(df_centralities, 'degree',50)"
   ]
  },
  {
   "cell_type": "code",
   "execution_count": null,
   "metadata": {},
   "outputs": [],
   "source": [
    "line_plot_schools(df_centralities, 'in_degree',50)"
   ]
  },
  {
   "cell_type": "code",
   "execution_count": null,
   "metadata": {},
   "outputs": [],
   "source": [
    "line_plot_schools(df_centralities, 'out_degree',50)"
   ]
  },
  {
   "cell_type": "code",
   "execution_count": null,
   "metadata": {},
   "outputs": [],
   "source": [
    "line_plot_schools(df_centralities, 'in_eigenvector',50)"
   ]
  },
  {
   "cell_type": "code",
   "execution_count": null,
   "metadata": {},
   "outputs": [],
   "source": [
    "line_plot_schools(df_centralities, 'out_eigenvector',50)"
   ]
  },
  {
   "cell_type": "code",
   "execution_count": null,
   "metadata": {},
   "outputs": [],
   "source": [
    "line_plot_schools(df_centralities, 'in_closeness',50)"
   ]
  },
  {
   "cell_type": "code",
   "execution_count": null,
   "metadata": {},
   "outputs": [],
   "source": [
    "line_plot_schools(df_centralities, 'out_closeness',50)"
   ]
  },
  {
   "cell_type": "code",
   "execution_count": null,
   "metadata": {},
   "outputs": [],
   "source": [
    "line_plot_schools(df_centralities, 'betweenness',50)"
   ]
  },
  {
   "cell_type": "markdown",
   "metadata": {},
   "source": [
    "# Network Plots"
   ]
  },
  {
   "cell_type": "code",
   "execution_count": null,
   "metadata": {},
   "outputs": [],
   "source": [
    "def draw_graph_layout(graph, layout, ax):\n",
    "    ax.scatter([v[0] for k, v in layout.items()], [v[1] for k, v in layout.items()], s = 2)\n",
    "    for e in [e for e in graph.edges]:\n",
    "        ax.plot([layout[i][0] for i in e], [layout[i][1] for i in e], c = \"steelblue\", lw = 0.1)"
   ]
  },
  {
   "cell_type": "code",
   "execution_count": null,
   "metadata": {},
   "outputs": [],
   "source": [
    "a = nx.kamada_kawai_layout(school_digraph)"
   ]
  },
  {
   "cell_type": "code",
   "execution_count": null,
   "metadata": {},
   "outputs": [],
   "source": [
    "fig, ax = plt.subplots(figsize = (10, 10))\n",
    "draw_graph_layout(school_digraph, a, ax)\n"
   ]
  },
  {
   "cell_type": "code",
   "execution_count": null,
   "metadata": {},
   "outputs": [],
   "source": []
  }
 ],
 "metadata": {
  "kernelspec": {
   "display_name": "Python 3",
   "language": "python",
   "name": "python3"
  },
  "language_info": {
   "codemirror_mode": {
    "name": "ipython",
    "version": 3
   },
   "file_extension": ".py",
   "mimetype": "text/x-python",
   "name": "python",
   "nbconvert_exporter": "python",
   "pygments_lexer": "ipython3",
   "version": "3.7.1"
  }
 },
 "nbformat": 4,
 "nbformat_minor": 2
}
