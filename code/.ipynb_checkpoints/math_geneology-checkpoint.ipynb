{
 "cells": [
  {
   "cell_type": "code",
   "execution_count": 134,
   "metadata": {},
   "outputs": [],
   "source": [
    "import requests\n",
    "import urllib.request\n",
    "import time\n",
    "from bs4 import BeautifulSoup\n",
    "import itertools\n",
    "import pandas as pd\n",
    "import datetime\n",
    "from multiprocessing.dummy import Pool  # This is a thread-based Pool\n",
    "from multiprocessing import cpu_count"
   ]
  },
  {
   "cell_type": "markdown",
   "metadata": {},
   "source": [
    "# Students"
   ]
  },
  {
   "cell_type": "code",
   "execution_count": 149,
   "metadata": {},
   "outputs": [],
   "source": [
    "files = ['students0.csv',\n",
    "         'students1.csv',\n",
    "         'students2.csv',\n",
    "         'students3.csv',\n",
    "         'students4.csv']\n",
    "df_list = [pd.read_csv(file) for file in files]\n",
    "df = pd.concat(df_list, axis = 0)\n",
    "df = df.reset_index(drop=True)"
   ]
  },
  {
   "cell_type": "code",
   "execution_count": 150,
   "metadata": {},
   "outputs": [],
   "source": [
    "df['student_id'] = [x.split('?id=')[1].split('\">')[0] for x in df['Mathematician']]\n",
    "df['student_name'] = [x.split(\">\")[2].split(\"<\")[0] for x in df['Mathematician']]"
   ]
  },
  {
   "cell_type": "code",
   "execution_count": 151,
   "metadata": {},
   "outputs": [],
   "source": [
    "df['student_school'] = [BeautifulSoup(x).text for x in df['School']]\n",
    "df['student_year'] = [BeautifulSoup(x).text for x in df['Year']]\n",
    "df['student_descendants'] = [BeautifulSoup(x).text for x in df['Descendants']]"
   ]
  },
  {
   "cell_type": "code",
   "execution_count": 152,
   "metadata": {},
   "outputs": [],
   "source": [
    "df_students = df[['id','student_id','student_name','student_school','student_year','student_descendants']]"
   ]
  },
  {
   "cell_type": "code",
   "execution_count": 154,
   "metadata": {},
   "outputs": [
    {
     "data": {
      "text/plain": [
       "(265688, 6)"
      ]
     },
     "execution_count": 154,
     "metadata": {},
     "output_type": "execute_result"
    }
   ],
   "source": [
    "df_students.shape"
   ]
  },
  {
   "cell_type": "code",
   "execution_count": 153,
   "metadata": {},
   "outputs": [
    {
     "data": {
      "text/html": [
       "<div>\n",
       "<style scoped>\n",
       "    .dataframe tbody tr th:only-of-type {\n",
       "        vertical-align: middle;\n",
       "    }\n",
       "\n",
       "    .dataframe tbody tr th {\n",
       "        vertical-align: top;\n",
       "    }\n",
       "\n",
       "    .dataframe thead th {\n",
       "        text-align: right;\n",
       "    }\n",
       "</style>\n",
       "<table border=\"1\" class=\"dataframe\">\n",
       "  <thead>\n",
       "    <tr style=\"text-align: right;\">\n",
       "      <th></th>\n",
       "      <th>id</th>\n",
       "      <th>student_id</th>\n",
       "      <th>student_name</th>\n",
       "      <th>student_school</th>\n",
       "      <th>student_year</th>\n",
       "      <th>student_descendants</th>\n",
       "    </tr>\n",
       "  </thead>\n",
       "  <tbody>\n",
       "    <tr>\n",
       "      <th>0</th>\n",
       "      <td>233136</td>\n",
       "      <td>233138</td>\n",
       "      <td>Mogstad, Magne</td>\n",
       "      <td>Universitetet i Oslo</td>\n",
       "      <td>2008</td>\n",
       "      <td>1</td>\n",
       "    </tr>\n",
       "    <tr>\n",
       "      <th>1</th>\n",
       "      <td>13670</td>\n",
       "      <td>106100</td>\n",
       "      <td>Anagnostakis, Christopher</td>\n",
       "      <td>Yale University</td>\n",
       "      <td>1984</td>\n",
       "      <td></td>\n",
       "    </tr>\n",
       "    <tr>\n",
       "      <th>2</th>\n",
       "      <td>13670</td>\n",
       "      <td>122878</td>\n",
       "      <td>Britton, John</td>\n",
       "      <td>Yale University</td>\n",
       "      <td>1966</td>\n",
       "      <td></td>\n",
       "    </tr>\n",
       "    <tr>\n",
       "      <th>3</th>\n",
       "      <td>13670</td>\n",
       "      <td>122880</td>\n",
       "      <td>Slotsky, Alice</td>\n",
       "      <td>Yale University</td>\n",
       "      <td>1992</td>\n",
       "      <td>1</td>\n",
       "    </tr>\n",
       "    <tr>\n",
       "      <th>4</th>\n",
       "      <td>13670</td>\n",
       "      <td>122881</td>\n",
       "      <td>Swerdlow, Noel</td>\n",
       "      <td>Yale University</td>\n",
       "      <td>1968</td>\n",
       "      <td></td>\n",
       "    </tr>\n",
       "  </tbody>\n",
       "</table>\n",
       "</div>"
      ],
      "text/plain": [
       "       id student_id               student_name        student_school  \\\n",
       "0  233136     233138             Mogstad, Magne  Universitetet i Oslo   \n",
       "1   13670     106100  Anagnostakis, Christopher       Yale University   \n",
       "2   13670     122878              Britton, John       Yale University   \n",
       "3   13670     122880             Slotsky, Alice       Yale University   \n",
       "4   13670     122881             Swerdlow, Noel       Yale University   \n",
       "\n",
       "  student_year student_descendants  \n",
       "0         2008                   1  \n",
       "1         1984                      \n",
       "2         1966                      \n",
       "3         1992                   1  \n",
       "4         1968                      "
      ]
     },
     "execution_count": 153,
     "metadata": {},
     "output_type": "execute_result"
    }
   ],
   "source": [
    "df_students.head()"
   ]
  },
  {
   "cell_type": "markdown",
   "metadata": {},
   "source": [
    "# Advisors"
   ]
  },
  {
   "cell_type": "code",
   "execution_count": 156,
   "metadata": {},
   "outputs": [],
   "source": [
    "df_advisors = pd.read_csv('mathematicians.csv')"
   ]
  },
  {
   "cell_type": "code",
   "execution_count": 157,
   "metadata": {},
   "outputs": [],
   "source": [
    "df_advisors = df_advisors[['Mathematician', 'School', 'Year', 'id']]\n",
    "df_advisors.rename({'Mathematician':'advisor_name',\n",
    "                    'School':'advisor_school',\n",
    "                    'Year':'advisor_year'},\n",
    "                  axis=1,\n",
    "                  inplace=True)"
   ]
  },
  {
   "cell_type": "markdown",
   "metadata": {},
   "source": [
    "# Merged"
   ]
  },
  {
   "cell_type": "code",
   "execution_count": 158,
   "metadata": {},
   "outputs": [],
   "source": [
    "df_final = df_students.merge(df_advisors, on = 'id', how = 'left')"
   ]
  },
  {
   "cell_type": "code",
   "execution_count": 159,
   "metadata": {},
   "outputs": [
    {
     "data": {
      "text/html": [
       "<div>\n",
       "<style scoped>\n",
       "    .dataframe tbody tr th:only-of-type {\n",
       "        vertical-align: middle;\n",
       "    }\n",
       "\n",
       "    .dataframe tbody tr th {\n",
       "        vertical-align: top;\n",
       "    }\n",
       "\n",
       "    .dataframe thead th {\n",
       "        text-align: right;\n",
       "    }\n",
       "</style>\n",
       "<table border=\"1\" class=\"dataframe\">\n",
       "  <thead>\n",
       "    <tr style=\"text-align: right;\">\n",
       "      <th></th>\n",
       "      <th>id</th>\n",
       "      <th>student_id</th>\n",
       "      <th>student_name</th>\n",
       "      <th>student_school</th>\n",
       "      <th>student_year</th>\n",
       "      <th>student_descendants</th>\n",
       "      <th>advisor_name</th>\n",
       "      <th>advisor_school</th>\n",
       "      <th>advisor_year</th>\n",
       "    </tr>\n",
       "  </thead>\n",
       "  <tbody>\n",
       "    <tr>\n",
       "      <th>0</th>\n",
       "      <td>233136</td>\n",
       "      <td>233138</td>\n",
       "      <td>Mogstad, Magne</td>\n",
       "      <td>Universitetet i Oslo</td>\n",
       "      <td>2008</td>\n",
       "      <td>1</td>\n",
       "      <td>Aaberge, Rolf</td>\n",
       "      <td>Universitetet i Oslo</td>\n",
       "      <td>1976</td>\n",
       "    </tr>\n",
       "    <tr>\n",
       "      <th>1</th>\n",
       "      <td>13670</td>\n",
       "      <td>106100</td>\n",
       "      <td>Anagnostakis, Christopher</td>\n",
       "      <td>Yale University</td>\n",
       "      <td>1984</td>\n",
       "      <td></td>\n",
       "      <td>Aaboe, Asger</td>\n",
       "      <td>Brown University</td>\n",
       "      <td>1957</td>\n",
       "    </tr>\n",
       "    <tr>\n",
       "      <th>2</th>\n",
       "      <td>13670</td>\n",
       "      <td>122878</td>\n",
       "      <td>Britton, John</td>\n",
       "      <td>Yale University</td>\n",
       "      <td>1966</td>\n",
       "      <td></td>\n",
       "      <td>Aaboe, Asger</td>\n",
       "      <td>Brown University</td>\n",
       "      <td>1957</td>\n",
       "    </tr>\n",
       "    <tr>\n",
       "      <th>3</th>\n",
       "      <td>13670</td>\n",
       "      <td>122880</td>\n",
       "      <td>Slotsky, Alice</td>\n",
       "      <td>Yale University</td>\n",
       "      <td>1992</td>\n",
       "      <td>1</td>\n",
       "      <td>Aaboe, Asger</td>\n",
       "      <td>Brown University</td>\n",
       "      <td>1957</td>\n",
       "    </tr>\n",
       "    <tr>\n",
       "      <th>4</th>\n",
       "      <td>13670</td>\n",
       "      <td>122881</td>\n",
       "      <td>Swerdlow, Noel</td>\n",
       "      <td>Yale University</td>\n",
       "      <td>1968</td>\n",
       "      <td></td>\n",
       "      <td>Aaboe, Asger</td>\n",
       "      <td>Brown University</td>\n",
       "      <td>1957</td>\n",
       "    </tr>\n",
       "  </tbody>\n",
       "</table>\n",
       "</div>"
      ],
      "text/plain": [
       "       id student_id               student_name        student_school  \\\n",
       "0  233136     233138             Mogstad, Magne  Universitetet i Oslo   \n",
       "1   13670     106100  Anagnostakis, Christopher       Yale University   \n",
       "2   13670     122878              Britton, John       Yale University   \n",
       "3   13670     122880             Slotsky, Alice       Yale University   \n",
       "4   13670     122881             Swerdlow, Noel       Yale University   \n",
       "\n",
       "  student_year student_descendants   advisor_name        advisor_school  \\\n",
       "0         2008                   1  Aaberge, Rolf  Universitetet i Oslo   \n",
       "1         1984                       Aaboe, Asger      Brown University   \n",
       "2         1966                       Aaboe, Asger      Brown University   \n",
       "3         1992                   1   Aaboe, Asger      Brown University   \n",
       "4         1968                       Aaboe, Asger      Brown University   \n",
       "\n",
       "  advisor_year  \n",
       "0         1976  \n",
       "1         1957  \n",
       "2         1957  \n",
       "3         1957  \n",
       "4         1957  "
      ]
     },
     "execution_count": 159,
     "metadata": {},
     "output_type": "execute_result"
    }
   ],
   "source": [
    "df_final.head()"
   ]
  },
  {
   "cell_type": "code",
   "execution_count": 160,
   "metadata": {},
   "outputs": [],
   "source": [
    "df_final.to_csv('math_geneology_final.csv')"
   ]
  },
  {
   "cell_type": "code",
   "execution_count": 170,
   "metadata": {},
   "outputs": [
    {
     "data": {
      "text/html": [
       "<div>\n",
       "<style scoped>\n",
       "    .dataframe tbody tr th:only-of-type {\n",
       "        vertical-align: middle;\n",
       "    }\n",
       "\n",
       "    .dataframe tbody tr th {\n",
       "        vertical-align: top;\n",
       "    }\n",
       "\n",
       "    .dataframe thead th {\n",
       "        text-align: right;\n",
       "    }\n",
       "</style>\n",
       "<table border=\"1\" class=\"dataframe\">\n",
       "  <thead>\n",
       "    <tr style=\"text-align: right;\">\n",
       "      <th></th>\n",
       "      <th>id</th>\n",
       "      <th>student_id</th>\n",
       "      <th>student_name</th>\n",
       "      <th>student_school</th>\n",
       "      <th>student_year</th>\n",
       "      <th>student_descendants</th>\n",
       "      <th>advisor_name</th>\n",
       "      <th>advisor_school</th>\n",
       "      <th>advisor_year</th>\n",
       "    </tr>\n",
       "  </thead>\n",
       "  <tbody>\n",
       "    <tr>\n",
       "      <th>67039</th>\n",
       "      <td>34465</td>\n",
       "      <td>147102</td>\n",
       "      <td>Lu, Ying</td>\n",
       "      <td>The University of North Carolina at Chapel Hill</td>\n",
       "      <td>2009</td>\n",
       "      <td></td>\n",
       "      <td>Fan, Jianqing</td>\n",
       "      <td>University of California, Berkeley</td>\n",
       "      <td>1989</td>\n",
       "    </tr>\n",
       "  </tbody>\n",
       "</table>\n",
       "</div>"
      ],
      "text/plain": [
       "          id student_id student_name  \\\n",
       "67039  34465     147102     Lu, Ying   \n",
       "\n",
       "                                        student_school student_year  \\\n",
       "67039  The University of North Carolina at Chapel Hill         2009   \n",
       "\n",
       "      student_descendants   advisor_name                      advisor_school  \\\n",
       "67039                      Fan, Jianqing  University of California, Berkeley   \n",
       "\n",
       "      advisor_year  \n",
       "67039         1989  "
      ]
     },
     "execution_count": 170,
     "metadata": {},
     "output_type": "execute_result"
    }
   ],
   "source": [
    "df_final.query('student_id == \"147102\"')"
   ]
  },
  {
   "cell_type": "code",
   "execution_count": 175,
   "metadata": {},
   "outputs": [
    {
     "name": "stdout",
     "output_type": "stream",
     "text": [
      "59792\n",
      "222799\n"
     ]
    }
   ],
   "source": [
    "print(len(df_final['id'].unique()))\n",
    "print(len(df_final['student_id'].unique()))"
   ]
  },
  {
   "cell_type": "code",
   "execution_count": null,
   "metadata": {},
   "outputs": [],
   "source": []
  }
 ],
 "metadata": {
  "kernelspec": {
   "display_name": "Python 3",
   "language": "python",
   "name": "python3"
  },
  "language_info": {
   "codemirror_mode": {
    "name": "ipython",
    "version": 3
   },
   "file_extension": ".py",
   "mimetype": "text/x-python",
   "name": "python",
   "nbconvert_exporter": "python",
   "pygments_lexer": "ipython3",
   "version": "3.7.1"
  }
 },
 "nbformat": 4,
 "nbformat_minor": 2
}
